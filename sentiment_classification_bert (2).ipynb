{
  "nbformat": 4,
  "nbformat_minor": 0,
  "metadata": {
    "colab": {
      "name": "sentiment_classification_bert.ipynb",
      "provenance": [],
      "collapsed_sections": []
    },
    "kernelspec": {
      "name": "python3",
      "display_name": "Python 3"
    },
    "language_info": {
      "name": "python"
    },
    "accelerator": "GPU",
    "widgets": {
      "application/vnd.jupyter.widget-state+json": {
        "9ea0253404c84ee0ad8cd29c3ffc0105": {
          "model_module": "@jupyter-widgets/controls",
          "model_name": "HBoxModel",
          "state": {
            "_view_name": "HBoxView",
            "_dom_classes": [],
            "_model_name": "HBoxModel",
            "_view_module": "@jupyter-widgets/controls",
            "_model_module_version": "1.5.0",
            "_view_count": null,
            "_view_module_version": "1.5.0",
            "box_style": "",
            "layout": "IPY_MODEL_cce6b636006d4330a79e0f2fbd735d21",
            "_model_module": "@jupyter-widgets/controls",
            "children": [
              "IPY_MODEL_14ad9872f12f4092ac9286479f273e70",
              "IPY_MODEL_48c35793e6604ae9b20a12b0115b3a99"
            ]
          }
        },
        "cce6b636006d4330a79e0f2fbd735d21": {
          "model_module": "@jupyter-widgets/base",
          "model_name": "LayoutModel",
          "state": {
            "_view_name": "LayoutView",
            "grid_template_rows": null,
            "right": null,
            "justify_content": null,
            "_view_module": "@jupyter-widgets/base",
            "overflow": null,
            "_model_module_version": "1.2.0",
            "_view_count": null,
            "flex_flow": null,
            "width": null,
            "min_width": null,
            "border": null,
            "align_items": null,
            "bottom": null,
            "_model_module": "@jupyter-widgets/base",
            "top": null,
            "grid_column": null,
            "overflow_y": null,
            "overflow_x": null,
            "grid_auto_flow": null,
            "grid_area": null,
            "grid_template_columns": null,
            "flex": null,
            "_model_name": "LayoutModel",
            "justify_items": null,
            "grid_row": null,
            "max_height": null,
            "align_content": null,
            "visibility": null,
            "align_self": null,
            "height": null,
            "min_height": null,
            "padding": null,
            "grid_auto_rows": null,
            "grid_gap": null,
            "max_width": null,
            "order": null,
            "_view_module_version": "1.2.0",
            "grid_template_areas": null,
            "object_position": null,
            "object_fit": null,
            "grid_auto_columns": null,
            "margin": null,
            "display": null,
            "left": null
          }
        },
        "14ad9872f12f4092ac9286479f273e70": {
          "model_module": "@jupyter-widgets/controls",
          "model_name": "FloatProgressModel",
          "state": {
            "_view_name": "ProgressView",
            "style": "IPY_MODEL_615173c5e38c43bfae3473ba09fc71a0",
            "_dom_classes": [],
            "description": "Downloading: 100%",
            "_model_name": "FloatProgressModel",
            "bar_style": "success",
            "max": 231508,
            "_view_module": "@jupyter-widgets/controls",
            "_model_module_version": "1.5.0",
            "value": 231508,
            "_view_count": null,
            "_view_module_version": "1.5.0",
            "orientation": "horizontal",
            "min": 0,
            "description_tooltip": null,
            "_model_module": "@jupyter-widgets/controls",
            "layout": "IPY_MODEL_3602b3aee8ed400cafe28abf17a088b2"
          }
        },
        "48c35793e6604ae9b20a12b0115b3a99": {
          "model_module": "@jupyter-widgets/controls",
          "model_name": "HTMLModel",
          "state": {
            "_view_name": "HTMLView",
            "style": "IPY_MODEL_5f3f62c617b1421fa98133ff210356dc",
            "_dom_classes": [],
            "description": "",
            "_model_name": "HTMLModel",
            "placeholder": "​",
            "_view_module": "@jupyter-widgets/controls",
            "_model_module_version": "1.5.0",
            "value": " 232k/232k [00:01&lt;00:00, 181kB/s]",
            "_view_count": null,
            "_view_module_version": "1.5.0",
            "description_tooltip": null,
            "_model_module": "@jupyter-widgets/controls",
            "layout": "IPY_MODEL_4f2e6f919db141a7b2a6da0cc72c4642"
          }
        },
        "615173c5e38c43bfae3473ba09fc71a0": {
          "model_module": "@jupyter-widgets/controls",
          "model_name": "ProgressStyleModel",
          "state": {
            "_view_name": "StyleView",
            "_model_name": "ProgressStyleModel",
            "description_width": "initial",
            "_view_module": "@jupyter-widgets/base",
            "_model_module_version": "1.5.0",
            "_view_count": null,
            "_view_module_version": "1.2.0",
            "bar_color": null,
            "_model_module": "@jupyter-widgets/controls"
          }
        },
        "3602b3aee8ed400cafe28abf17a088b2": {
          "model_module": "@jupyter-widgets/base",
          "model_name": "LayoutModel",
          "state": {
            "_view_name": "LayoutView",
            "grid_template_rows": null,
            "right": null,
            "justify_content": null,
            "_view_module": "@jupyter-widgets/base",
            "overflow": null,
            "_model_module_version": "1.2.0",
            "_view_count": null,
            "flex_flow": null,
            "width": null,
            "min_width": null,
            "border": null,
            "align_items": null,
            "bottom": null,
            "_model_module": "@jupyter-widgets/base",
            "top": null,
            "grid_column": null,
            "overflow_y": null,
            "overflow_x": null,
            "grid_auto_flow": null,
            "grid_area": null,
            "grid_template_columns": null,
            "flex": null,
            "_model_name": "LayoutModel",
            "justify_items": null,
            "grid_row": null,
            "max_height": null,
            "align_content": null,
            "visibility": null,
            "align_self": null,
            "height": null,
            "min_height": null,
            "padding": null,
            "grid_auto_rows": null,
            "grid_gap": null,
            "max_width": null,
            "order": null,
            "_view_module_version": "1.2.0",
            "grid_template_areas": null,
            "object_position": null,
            "object_fit": null,
            "grid_auto_columns": null,
            "margin": null,
            "display": null,
            "left": null
          }
        },
        "5f3f62c617b1421fa98133ff210356dc": {
          "model_module": "@jupyter-widgets/controls",
          "model_name": "DescriptionStyleModel",
          "state": {
            "_view_name": "StyleView",
            "_model_name": "DescriptionStyleModel",
            "description_width": "",
            "_view_module": "@jupyter-widgets/base",
            "_model_module_version": "1.5.0",
            "_view_count": null,
            "_view_module_version": "1.2.0",
            "_model_module": "@jupyter-widgets/controls"
          }
        },
        "4f2e6f919db141a7b2a6da0cc72c4642": {
          "model_module": "@jupyter-widgets/base",
          "model_name": "LayoutModel",
          "state": {
            "_view_name": "LayoutView",
            "grid_template_rows": null,
            "right": null,
            "justify_content": null,
            "_view_module": "@jupyter-widgets/base",
            "overflow": null,
            "_model_module_version": "1.2.0",
            "_view_count": null,
            "flex_flow": null,
            "width": null,
            "min_width": null,
            "border": null,
            "align_items": null,
            "bottom": null,
            "_model_module": "@jupyter-widgets/base",
            "top": null,
            "grid_column": null,
            "overflow_y": null,
            "overflow_x": null,
            "grid_auto_flow": null,
            "grid_area": null,
            "grid_template_columns": null,
            "flex": null,
            "_model_name": "LayoutModel",
            "justify_items": null,
            "grid_row": null,
            "max_height": null,
            "align_content": null,
            "visibility": null,
            "align_self": null,
            "height": null,
            "min_height": null,
            "padding": null,
            "grid_auto_rows": null,
            "grid_gap": null,
            "max_width": null,
            "order": null,
            "_view_module_version": "1.2.0",
            "grid_template_areas": null,
            "object_position": null,
            "object_fit": null,
            "grid_auto_columns": null,
            "margin": null,
            "display": null,
            "left": null
          }
        },
        "847659d4ec1241059474a5588bdc2e25": {
          "model_module": "@jupyter-widgets/controls",
          "model_name": "HBoxModel",
          "state": {
            "_view_name": "HBoxView",
            "_dom_classes": [],
            "_model_name": "HBoxModel",
            "_view_module": "@jupyter-widgets/controls",
            "_model_module_version": "1.5.0",
            "_view_count": null,
            "_view_module_version": "1.5.0",
            "box_style": "",
            "layout": "IPY_MODEL_0a4bb2e8e15a42cc88542f44b0998b85",
            "_model_module": "@jupyter-widgets/controls",
            "children": [
              "IPY_MODEL_ff2976b057cf43edbd29d101c34fc11c",
              "IPY_MODEL_19f6338b4c8143b1b1a882d7e5e208b8"
            ]
          }
        },
        "0a4bb2e8e15a42cc88542f44b0998b85": {
          "model_module": "@jupyter-widgets/base",
          "model_name": "LayoutModel",
          "state": {
            "_view_name": "LayoutView",
            "grid_template_rows": null,
            "right": null,
            "justify_content": null,
            "_view_module": "@jupyter-widgets/base",
            "overflow": null,
            "_model_module_version": "1.2.0",
            "_view_count": null,
            "flex_flow": null,
            "width": null,
            "min_width": null,
            "border": null,
            "align_items": null,
            "bottom": null,
            "_model_module": "@jupyter-widgets/base",
            "top": null,
            "grid_column": null,
            "overflow_y": null,
            "overflow_x": null,
            "grid_auto_flow": null,
            "grid_area": null,
            "grid_template_columns": null,
            "flex": null,
            "_model_name": "LayoutModel",
            "justify_items": null,
            "grid_row": null,
            "max_height": null,
            "align_content": null,
            "visibility": null,
            "align_self": null,
            "height": null,
            "min_height": null,
            "padding": null,
            "grid_auto_rows": null,
            "grid_gap": null,
            "max_width": null,
            "order": null,
            "_view_module_version": "1.2.0",
            "grid_template_areas": null,
            "object_position": null,
            "object_fit": null,
            "grid_auto_columns": null,
            "margin": null,
            "display": null,
            "left": null
          }
        },
        "ff2976b057cf43edbd29d101c34fc11c": {
          "model_module": "@jupyter-widgets/controls",
          "model_name": "FloatProgressModel",
          "state": {
            "_view_name": "ProgressView",
            "style": "IPY_MODEL_69a0711e02914c75bc6dcc05d9dc7517",
            "_dom_classes": [],
            "description": "Downloading: 100%",
            "_model_name": "FloatProgressModel",
            "bar_style": "success",
            "max": 28,
            "_view_module": "@jupyter-widgets/controls",
            "_model_module_version": "1.5.0",
            "value": 28,
            "_view_count": null,
            "_view_module_version": "1.5.0",
            "orientation": "horizontal",
            "min": 0,
            "description_tooltip": null,
            "_model_module": "@jupyter-widgets/controls",
            "layout": "IPY_MODEL_032a1351758c4c31b463f6597dae91d7"
          }
        },
        "19f6338b4c8143b1b1a882d7e5e208b8": {
          "model_module": "@jupyter-widgets/controls",
          "model_name": "HTMLModel",
          "state": {
            "_view_name": "HTMLView",
            "style": "IPY_MODEL_5f3a900a19504e158441525717a4e49a",
            "_dom_classes": [],
            "description": "",
            "_model_name": "HTMLModel",
            "placeholder": "​",
            "_view_module": "@jupyter-widgets/controls",
            "_model_module_version": "1.5.0",
            "value": " 28.0/28.0 [00:00&lt;00:00, 35.0B/s]",
            "_view_count": null,
            "_view_module_version": "1.5.0",
            "description_tooltip": null,
            "_model_module": "@jupyter-widgets/controls",
            "layout": "IPY_MODEL_3b077e0e0c044e439b0f28ea82d3bda5"
          }
        },
        "69a0711e02914c75bc6dcc05d9dc7517": {
          "model_module": "@jupyter-widgets/controls",
          "model_name": "ProgressStyleModel",
          "state": {
            "_view_name": "StyleView",
            "_model_name": "ProgressStyleModel",
            "description_width": "initial",
            "_view_module": "@jupyter-widgets/base",
            "_model_module_version": "1.5.0",
            "_view_count": null,
            "_view_module_version": "1.2.0",
            "bar_color": null,
            "_model_module": "@jupyter-widgets/controls"
          }
        },
        "032a1351758c4c31b463f6597dae91d7": {
          "model_module": "@jupyter-widgets/base",
          "model_name": "LayoutModel",
          "state": {
            "_view_name": "LayoutView",
            "grid_template_rows": null,
            "right": null,
            "justify_content": null,
            "_view_module": "@jupyter-widgets/base",
            "overflow": null,
            "_model_module_version": "1.2.0",
            "_view_count": null,
            "flex_flow": null,
            "width": null,
            "min_width": null,
            "border": null,
            "align_items": null,
            "bottom": null,
            "_model_module": "@jupyter-widgets/base",
            "top": null,
            "grid_column": null,
            "overflow_y": null,
            "overflow_x": null,
            "grid_auto_flow": null,
            "grid_area": null,
            "grid_template_columns": null,
            "flex": null,
            "_model_name": "LayoutModel",
            "justify_items": null,
            "grid_row": null,
            "max_height": null,
            "align_content": null,
            "visibility": null,
            "align_self": null,
            "height": null,
            "min_height": null,
            "padding": null,
            "grid_auto_rows": null,
            "grid_gap": null,
            "max_width": null,
            "order": null,
            "_view_module_version": "1.2.0",
            "grid_template_areas": null,
            "object_position": null,
            "object_fit": null,
            "grid_auto_columns": null,
            "margin": null,
            "display": null,
            "left": null
          }
        },
        "5f3a900a19504e158441525717a4e49a": {
          "model_module": "@jupyter-widgets/controls",
          "model_name": "DescriptionStyleModel",
          "state": {
            "_view_name": "StyleView",
            "_model_name": "DescriptionStyleModel",
            "description_width": "",
            "_view_module": "@jupyter-widgets/base",
            "_model_module_version": "1.5.0",
            "_view_count": null,
            "_view_module_version": "1.2.0",
            "_model_module": "@jupyter-widgets/controls"
          }
        },
        "3b077e0e0c044e439b0f28ea82d3bda5": {
          "model_module": "@jupyter-widgets/base",
          "model_name": "LayoutModel",
          "state": {
            "_view_name": "LayoutView",
            "grid_template_rows": null,
            "right": null,
            "justify_content": null,
            "_view_module": "@jupyter-widgets/base",
            "overflow": null,
            "_model_module_version": "1.2.0",
            "_view_count": null,
            "flex_flow": null,
            "width": null,
            "min_width": null,
            "border": null,
            "align_items": null,
            "bottom": null,
            "_model_module": "@jupyter-widgets/base",
            "top": null,
            "grid_column": null,
            "overflow_y": null,
            "overflow_x": null,
            "grid_auto_flow": null,
            "grid_area": null,
            "grid_template_columns": null,
            "flex": null,
            "_model_name": "LayoutModel",
            "justify_items": null,
            "grid_row": null,
            "max_height": null,
            "align_content": null,
            "visibility": null,
            "align_self": null,
            "height": null,
            "min_height": null,
            "padding": null,
            "grid_auto_rows": null,
            "grid_gap": null,
            "max_width": null,
            "order": null,
            "_view_module_version": "1.2.0",
            "grid_template_areas": null,
            "object_position": null,
            "object_fit": null,
            "grid_auto_columns": null,
            "margin": null,
            "display": null,
            "left": null
          }
        },
        "1285c84a9cbf45f2bf582467f4f8645e": {
          "model_module": "@jupyter-widgets/controls",
          "model_name": "HBoxModel",
          "state": {
            "_view_name": "HBoxView",
            "_dom_classes": [],
            "_model_name": "HBoxModel",
            "_view_module": "@jupyter-widgets/controls",
            "_model_module_version": "1.5.0",
            "_view_count": null,
            "_view_module_version": "1.5.0",
            "box_style": "",
            "layout": "IPY_MODEL_004e5dbaa97443b3a4b9b24df144f169",
            "_model_module": "@jupyter-widgets/controls",
            "children": [
              "IPY_MODEL_99c3afa2d3c24a8381cd0f03aceafcaf",
              "IPY_MODEL_b1555ea876a248bd8a96ecdf87fd4c22"
            ]
          }
        },
        "004e5dbaa97443b3a4b9b24df144f169": {
          "model_module": "@jupyter-widgets/base",
          "model_name": "LayoutModel",
          "state": {
            "_view_name": "LayoutView",
            "grid_template_rows": null,
            "right": null,
            "justify_content": null,
            "_view_module": "@jupyter-widgets/base",
            "overflow": null,
            "_model_module_version": "1.2.0",
            "_view_count": null,
            "flex_flow": null,
            "width": null,
            "min_width": null,
            "border": null,
            "align_items": null,
            "bottom": null,
            "_model_module": "@jupyter-widgets/base",
            "top": null,
            "grid_column": null,
            "overflow_y": null,
            "overflow_x": null,
            "grid_auto_flow": null,
            "grid_area": null,
            "grid_template_columns": null,
            "flex": null,
            "_model_name": "LayoutModel",
            "justify_items": null,
            "grid_row": null,
            "max_height": null,
            "align_content": null,
            "visibility": null,
            "align_self": null,
            "height": null,
            "min_height": null,
            "padding": null,
            "grid_auto_rows": null,
            "grid_gap": null,
            "max_width": null,
            "order": null,
            "_view_module_version": "1.2.0",
            "grid_template_areas": null,
            "object_position": null,
            "object_fit": null,
            "grid_auto_columns": null,
            "margin": null,
            "display": null,
            "left": null
          }
        },
        "99c3afa2d3c24a8381cd0f03aceafcaf": {
          "model_module": "@jupyter-widgets/controls",
          "model_name": "FloatProgressModel",
          "state": {
            "_view_name": "ProgressView",
            "style": "IPY_MODEL_f71a0ac495ad4b0a821821a3a855f9b3",
            "_dom_classes": [],
            "description": "Downloading: 100%",
            "_model_name": "FloatProgressModel",
            "bar_style": "success",
            "max": 466062,
            "_view_module": "@jupyter-widgets/controls",
            "_model_module_version": "1.5.0",
            "value": 466062,
            "_view_count": null,
            "_view_module_version": "1.5.0",
            "orientation": "horizontal",
            "min": 0,
            "description_tooltip": null,
            "_model_module": "@jupyter-widgets/controls",
            "layout": "IPY_MODEL_73bd89d028634e3c96bcaeecded4e08b"
          }
        },
        "b1555ea876a248bd8a96ecdf87fd4c22": {
          "model_module": "@jupyter-widgets/controls",
          "model_name": "HTMLModel",
          "state": {
            "_view_name": "HTMLView",
            "style": "IPY_MODEL_2381a6225e1f4441b7b29fa1cd018927",
            "_dom_classes": [],
            "description": "",
            "_model_name": "HTMLModel",
            "placeholder": "​",
            "_view_module": "@jupyter-widgets/controls",
            "_model_module_version": "1.5.0",
            "value": " 466k/466k [00:00&lt;00:00, 2.74MB/s]",
            "_view_count": null,
            "_view_module_version": "1.5.0",
            "description_tooltip": null,
            "_model_module": "@jupyter-widgets/controls",
            "layout": "IPY_MODEL_c73d748c3e15494fa10fc8854779cc96"
          }
        },
        "f71a0ac495ad4b0a821821a3a855f9b3": {
          "model_module": "@jupyter-widgets/controls",
          "model_name": "ProgressStyleModel",
          "state": {
            "_view_name": "StyleView",
            "_model_name": "ProgressStyleModel",
            "description_width": "initial",
            "_view_module": "@jupyter-widgets/base",
            "_model_module_version": "1.5.0",
            "_view_count": null,
            "_view_module_version": "1.2.0",
            "bar_color": null,
            "_model_module": "@jupyter-widgets/controls"
          }
        },
        "73bd89d028634e3c96bcaeecded4e08b": {
          "model_module": "@jupyter-widgets/base",
          "model_name": "LayoutModel",
          "state": {
            "_view_name": "LayoutView",
            "grid_template_rows": null,
            "right": null,
            "justify_content": null,
            "_view_module": "@jupyter-widgets/base",
            "overflow": null,
            "_model_module_version": "1.2.0",
            "_view_count": null,
            "flex_flow": null,
            "width": null,
            "min_width": null,
            "border": null,
            "align_items": null,
            "bottom": null,
            "_model_module": "@jupyter-widgets/base",
            "top": null,
            "grid_column": null,
            "overflow_y": null,
            "overflow_x": null,
            "grid_auto_flow": null,
            "grid_area": null,
            "grid_template_columns": null,
            "flex": null,
            "_model_name": "LayoutModel",
            "justify_items": null,
            "grid_row": null,
            "max_height": null,
            "align_content": null,
            "visibility": null,
            "align_self": null,
            "height": null,
            "min_height": null,
            "padding": null,
            "grid_auto_rows": null,
            "grid_gap": null,
            "max_width": null,
            "order": null,
            "_view_module_version": "1.2.0",
            "grid_template_areas": null,
            "object_position": null,
            "object_fit": null,
            "grid_auto_columns": null,
            "margin": null,
            "display": null,
            "left": null
          }
        },
        "2381a6225e1f4441b7b29fa1cd018927": {
          "model_module": "@jupyter-widgets/controls",
          "model_name": "DescriptionStyleModel",
          "state": {
            "_view_name": "StyleView",
            "_model_name": "DescriptionStyleModel",
            "description_width": "",
            "_view_module": "@jupyter-widgets/base",
            "_model_module_version": "1.5.0",
            "_view_count": null,
            "_view_module_version": "1.2.0",
            "_model_module": "@jupyter-widgets/controls"
          }
        },
        "c73d748c3e15494fa10fc8854779cc96": {
          "model_module": "@jupyter-widgets/base",
          "model_name": "LayoutModel",
          "state": {
            "_view_name": "LayoutView",
            "grid_template_rows": null,
            "right": null,
            "justify_content": null,
            "_view_module": "@jupyter-widgets/base",
            "overflow": null,
            "_model_module_version": "1.2.0",
            "_view_count": null,
            "flex_flow": null,
            "width": null,
            "min_width": null,
            "border": null,
            "align_items": null,
            "bottom": null,
            "_model_module": "@jupyter-widgets/base",
            "top": null,
            "grid_column": null,
            "overflow_y": null,
            "overflow_x": null,
            "grid_auto_flow": null,
            "grid_area": null,
            "grid_template_columns": null,
            "flex": null,
            "_model_name": "LayoutModel",
            "justify_items": null,
            "grid_row": null,
            "max_height": null,
            "align_content": null,
            "visibility": null,
            "align_self": null,
            "height": null,
            "min_height": null,
            "padding": null,
            "grid_auto_rows": null,
            "grid_gap": null,
            "max_width": null,
            "order": null,
            "_view_module_version": "1.2.0",
            "grid_template_areas": null,
            "object_position": null,
            "object_fit": null,
            "grid_auto_columns": null,
            "margin": null,
            "display": null,
            "left": null
          }
        },
        "dd2e5033e8f343848ee2365132e49463": {
          "model_module": "@jupyter-widgets/controls",
          "model_name": "HBoxModel",
          "state": {
            "_view_name": "HBoxView",
            "_dom_classes": [],
            "_model_name": "HBoxModel",
            "_view_module": "@jupyter-widgets/controls",
            "_model_module_version": "1.5.0",
            "_view_count": null,
            "_view_module_version": "1.5.0",
            "box_style": "",
            "layout": "IPY_MODEL_2219775df7ed47519408897be0b88fc7",
            "_model_module": "@jupyter-widgets/controls",
            "children": [
              "IPY_MODEL_11d6a8318dd74d548e131074cabe56c5",
              "IPY_MODEL_277fdc6405c542b484ee89f4d453e749"
            ]
          }
        },
        "2219775df7ed47519408897be0b88fc7": {
          "model_module": "@jupyter-widgets/base",
          "model_name": "LayoutModel",
          "state": {
            "_view_name": "LayoutView",
            "grid_template_rows": null,
            "right": null,
            "justify_content": null,
            "_view_module": "@jupyter-widgets/base",
            "overflow": null,
            "_model_module_version": "1.2.0",
            "_view_count": null,
            "flex_flow": null,
            "width": null,
            "min_width": null,
            "border": null,
            "align_items": null,
            "bottom": null,
            "_model_module": "@jupyter-widgets/base",
            "top": null,
            "grid_column": null,
            "overflow_y": null,
            "overflow_x": null,
            "grid_auto_flow": null,
            "grid_area": null,
            "grid_template_columns": null,
            "flex": null,
            "_model_name": "LayoutModel",
            "justify_items": null,
            "grid_row": null,
            "max_height": null,
            "align_content": null,
            "visibility": null,
            "align_self": null,
            "height": null,
            "min_height": null,
            "padding": null,
            "grid_auto_rows": null,
            "grid_gap": null,
            "max_width": null,
            "order": null,
            "_view_module_version": "1.2.0",
            "grid_template_areas": null,
            "object_position": null,
            "object_fit": null,
            "grid_auto_columns": null,
            "margin": null,
            "display": null,
            "left": null
          }
        },
        "11d6a8318dd74d548e131074cabe56c5": {
          "model_module": "@jupyter-widgets/controls",
          "model_name": "FloatProgressModel",
          "state": {
            "_view_name": "ProgressView",
            "style": "IPY_MODEL_5a3c0cc69380420ba8eeda84ba71ec24",
            "_dom_classes": [],
            "description": "Downloading: 100%",
            "_model_name": "FloatProgressModel",
            "bar_style": "success",
            "max": 570,
            "_view_module": "@jupyter-widgets/controls",
            "_model_module_version": "1.5.0",
            "value": 570,
            "_view_count": null,
            "_view_module_version": "1.5.0",
            "orientation": "horizontal",
            "min": 0,
            "description_tooltip": null,
            "_model_module": "@jupyter-widgets/controls",
            "layout": "IPY_MODEL_95909995fa6e4f43b519562724b9f8d0"
          }
        },
        "277fdc6405c542b484ee89f4d453e749": {
          "model_module": "@jupyter-widgets/controls",
          "model_name": "HTMLModel",
          "state": {
            "_view_name": "HTMLView",
            "style": "IPY_MODEL_d8de96550111424592199a5eb27bad53",
            "_dom_classes": [],
            "description": "",
            "_model_name": "HTMLModel",
            "placeholder": "​",
            "_view_module": "@jupyter-widgets/controls",
            "_model_module_version": "1.5.0",
            "value": " 570/570 [00:00&lt;00:00, 1.73kB/s]",
            "_view_count": null,
            "_view_module_version": "1.5.0",
            "description_tooltip": null,
            "_model_module": "@jupyter-widgets/controls",
            "layout": "IPY_MODEL_b3218b8f293c497090657bda5dd1c7a2"
          }
        },
        "5a3c0cc69380420ba8eeda84ba71ec24": {
          "model_module": "@jupyter-widgets/controls",
          "model_name": "ProgressStyleModel",
          "state": {
            "_view_name": "StyleView",
            "_model_name": "ProgressStyleModel",
            "description_width": "initial",
            "_view_module": "@jupyter-widgets/base",
            "_model_module_version": "1.5.0",
            "_view_count": null,
            "_view_module_version": "1.2.0",
            "bar_color": null,
            "_model_module": "@jupyter-widgets/controls"
          }
        },
        "95909995fa6e4f43b519562724b9f8d0": {
          "model_module": "@jupyter-widgets/base",
          "model_name": "LayoutModel",
          "state": {
            "_view_name": "LayoutView",
            "grid_template_rows": null,
            "right": null,
            "justify_content": null,
            "_view_module": "@jupyter-widgets/base",
            "overflow": null,
            "_model_module_version": "1.2.0",
            "_view_count": null,
            "flex_flow": null,
            "width": null,
            "min_width": null,
            "border": null,
            "align_items": null,
            "bottom": null,
            "_model_module": "@jupyter-widgets/base",
            "top": null,
            "grid_column": null,
            "overflow_y": null,
            "overflow_x": null,
            "grid_auto_flow": null,
            "grid_area": null,
            "grid_template_columns": null,
            "flex": null,
            "_model_name": "LayoutModel",
            "justify_items": null,
            "grid_row": null,
            "max_height": null,
            "align_content": null,
            "visibility": null,
            "align_self": null,
            "height": null,
            "min_height": null,
            "padding": null,
            "grid_auto_rows": null,
            "grid_gap": null,
            "max_width": null,
            "order": null,
            "_view_module_version": "1.2.0",
            "grid_template_areas": null,
            "object_position": null,
            "object_fit": null,
            "grid_auto_columns": null,
            "margin": null,
            "display": null,
            "left": null
          }
        },
        "d8de96550111424592199a5eb27bad53": {
          "model_module": "@jupyter-widgets/controls",
          "model_name": "DescriptionStyleModel",
          "state": {
            "_view_name": "StyleView",
            "_model_name": "DescriptionStyleModel",
            "description_width": "",
            "_view_module": "@jupyter-widgets/base",
            "_model_module_version": "1.5.0",
            "_view_count": null,
            "_view_module_version": "1.2.0",
            "_model_module": "@jupyter-widgets/controls"
          }
        },
        "b3218b8f293c497090657bda5dd1c7a2": {
          "model_module": "@jupyter-widgets/base",
          "model_name": "LayoutModel",
          "state": {
            "_view_name": "LayoutView",
            "grid_template_rows": null,
            "right": null,
            "justify_content": null,
            "_view_module": "@jupyter-widgets/base",
            "overflow": null,
            "_model_module_version": "1.2.0",
            "_view_count": null,
            "flex_flow": null,
            "width": null,
            "min_width": null,
            "border": null,
            "align_items": null,
            "bottom": null,
            "_model_module": "@jupyter-widgets/base",
            "top": null,
            "grid_column": null,
            "overflow_y": null,
            "overflow_x": null,
            "grid_auto_flow": null,
            "grid_area": null,
            "grid_template_columns": null,
            "flex": null,
            "_model_name": "LayoutModel",
            "justify_items": null,
            "grid_row": null,
            "max_height": null,
            "align_content": null,
            "visibility": null,
            "align_self": null,
            "height": null,
            "min_height": null,
            "padding": null,
            "grid_auto_rows": null,
            "grid_gap": null,
            "max_width": null,
            "order": null,
            "_view_module_version": "1.2.0",
            "grid_template_areas": null,
            "object_position": null,
            "object_fit": null,
            "grid_auto_columns": null,
            "margin": null,
            "display": null,
            "left": null
          }
        },
        "615f9322b8f64932aaf04a8712976526": {
          "model_module": "@jupyter-widgets/controls",
          "model_name": "HBoxModel",
          "state": {
            "_view_name": "HBoxView",
            "_dom_classes": [],
            "_model_name": "HBoxModel",
            "_view_module": "@jupyter-widgets/controls",
            "_model_module_version": "1.5.0",
            "_view_count": null,
            "_view_module_version": "1.5.0",
            "box_style": "",
            "layout": "IPY_MODEL_8c663b83e6bd4b8fbb5645a00e218c81",
            "_model_module": "@jupyter-widgets/controls",
            "children": [
              "IPY_MODEL_acd7b0f45def4a73873331f64d74d460",
              "IPY_MODEL_6a46398a71844766a16a65914950e9ca"
            ]
          }
        },
        "8c663b83e6bd4b8fbb5645a00e218c81": {
          "model_module": "@jupyter-widgets/base",
          "model_name": "LayoutModel",
          "state": {
            "_view_name": "LayoutView",
            "grid_template_rows": null,
            "right": null,
            "justify_content": null,
            "_view_module": "@jupyter-widgets/base",
            "overflow": null,
            "_model_module_version": "1.2.0",
            "_view_count": null,
            "flex_flow": null,
            "width": null,
            "min_width": null,
            "border": null,
            "align_items": null,
            "bottom": null,
            "_model_module": "@jupyter-widgets/base",
            "top": null,
            "grid_column": null,
            "overflow_y": null,
            "overflow_x": null,
            "grid_auto_flow": null,
            "grid_area": null,
            "grid_template_columns": null,
            "flex": null,
            "_model_name": "LayoutModel",
            "justify_items": null,
            "grid_row": null,
            "max_height": null,
            "align_content": null,
            "visibility": null,
            "align_self": null,
            "height": null,
            "min_height": null,
            "padding": null,
            "grid_auto_rows": null,
            "grid_gap": null,
            "max_width": null,
            "order": null,
            "_view_module_version": "1.2.0",
            "grid_template_areas": null,
            "object_position": null,
            "object_fit": null,
            "grid_auto_columns": null,
            "margin": null,
            "display": null,
            "left": null
          }
        },
        "acd7b0f45def4a73873331f64d74d460": {
          "model_module": "@jupyter-widgets/controls",
          "model_name": "FloatProgressModel",
          "state": {
            "_view_name": "ProgressView",
            "style": "IPY_MODEL_1f979ae4e878464b916ada24ebd8d3e4",
            "_dom_classes": [],
            "description": "Downloading: 100%",
            "_model_name": "FloatProgressModel",
            "bar_style": "success",
            "max": 536063208,
            "_view_module": "@jupyter-widgets/controls",
            "_model_module_version": "1.5.0",
            "value": 536063208,
            "_view_count": null,
            "_view_module_version": "1.5.0",
            "orientation": "horizontal",
            "min": 0,
            "description_tooltip": null,
            "_model_module": "@jupyter-widgets/controls",
            "layout": "IPY_MODEL_e04e5ab11848481eb1afb9987499018e"
          }
        },
        "6a46398a71844766a16a65914950e9ca": {
          "model_module": "@jupyter-widgets/controls",
          "model_name": "HTMLModel",
          "state": {
            "_view_name": "HTMLView",
            "style": "IPY_MODEL_3cd99c854d9c47368f12e10dc8f2991f",
            "_dom_classes": [],
            "description": "",
            "_model_name": "HTMLModel",
            "placeholder": "​",
            "_view_module": "@jupyter-widgets/controls",
            "_model_module_version": "1.5.0",
            "value": " 536M/536M [00:11&lt;00:00, 48.3MB/s]",
            "_view_count": null,
            "_view_module_version": "1.5.0",
            "description_tooltip": null,
            "_model_module": "@jupyter-widgets/controls",
            "layout": "IPY_MODEL_d3640ca6c66d463fa2fadf8124fdd5c9"
          }
        },
        "1f979ae4e878464b916ada24ebd8d3e4": {
          "model_module": "@jupyter-widgets/controls",
          "model_name": "ProgressStyleModel",
          "state": {
            "_view_name": "StyleView",
            "_model_name": "ProgressStyleModel",
            "description_width": "initial",
            "_view_module": "@jupyter-widgets/base",
            "_model_module_version": "1.5.0",
            "_view_count": null,
            "_view_module_version": "1.2.0",
            "bar_color": null,
            "_model_module": "@jupyter-widgets/controls"
          }
        },
        "e04e5ab11848481eb1afb9987499018e": {
          "model_module": "@jupyter-widgets/base",
          "model_name": "LayoutModel",
          "state": {
            "_view_name": "LayoutView",
            "grid_template_rows": null,
            "right": null,
            "justify_content": null,
            "_view_module": "@jupyter-widgets/base",
            "overflow": null,
            "_model_module_version": "1.2.0",
            "_view_count": null,
            "flex_flow": null,
            "width": null,
            "min_width": null,
            "border": null,
            "align_items": null,
            "bottom": null,
            "_model_module": "@jupyter-widgets/base",
            "top": null,
            "grid_column": null,
            "overflow_y": null,
            "overflow_x": null,
            "grid_auto_flow": null,
            "grid_area": null,
            "grid_template_columns": null,
            "flex": null,
            "_model_name": "LayoutModel",
            "justify_items": null,
            "grid_row": null,
            "max_height": null,
            "align_content": null,
            "visibility": null,
            "align_self": null,
            "height": null,
            "min_height": null,
            "padding": null,
            "grid_auto_rows": null,
            "grid_gap": null,
            "max_width": null,
            "order": null,
            "_view_module_version": "1.2.0",
            "grid_template_areas": null,
            "object_position": null,
            "object_fit": null,
            "grid_auto_columns": null,
            "margin": null,
            "display": null,
            "left": null
          }
        },
        "3cd99c854d9c47368f12e10dc8f2991f": {
          "model_module": "@jupyter-widgets/controls",
          "model_name": "DescriptionStyleModel",
          "state": {
            "_view_name": "StyleView",
            "_model_name": "DescriptionStyleModel",
            "description_width": "",
            "_view_module": "@jupyter-widgets/base",
            "_model_module_version": "1.5.0",
            "_view_count": null,
            "_view_module_version": "1.2.0",
            "_model_module": "@jupyter-widgets/controls"
          }
        },
        "d3640ca6c66d463fa2fadf8124fdd5c9": {
          "model_module": "@jupyter-widgets/base",
          "model_name": "LayoutModel",
          "state": {
            "_view_name": "LayoutView",
            "grid_template_rows": null,
            "right": null,
            "justify_content": null,
            "_view_module": "@jupyter-widgets/base",
            "overflow": null,
            "_model_module_version": "1.2.0",
            "_view_count": null,
            "flex_flow": null,
            "width": null,
            "min_width": null,
            "border": null,
            "align_items": null,
            "bottom": null,
            "_model_module": "@jupyter-widgets/base",
            "top": null,
            "grid_column": null,
            "overflow_y": null,
            "overflow_x": null,
            "grid_auto_flow": null,
            "grid_area": null,
            "grid_template_columns": null,
            "flex": null,
            "_model_name": "LayoutModel",
            "justify_items": null,
            "grid_row": null,
            "max_height": null,
            "align_content": null,
            "visibility": null,
            "align_self": null,
            "height": null,
            "min_height": null,
            "padding": null,
            "grid_auto_rows": null,
            "grid_gap": null,
            "max_width": null,
            "order": null,
            "_view_module_version": "1.2.0",
            "grid_template_areas": null,
            "object_position": null,
            "object_fit": null,
            "grid_auto_columns": null,
            "margin": null,
            "display": null,
            "left": null
          }
        }
      }
    }
  },
  "cells": [
    {
      "cell_type": "code",
      "metadata": {
        "id": "nC_dEmCbhE55"
      },
      "source": [
        "import pandas as pd\n",
        "import numpy as np\n",
        "from textblob import TextBlob\n",
        "import re \n",
        "import tqdm\n",
        "import matplotlib.pyplot as plt\n",
        "import seaborn as sns\n",
        "%matplotlib inline\n",
        "import warnings\n",
        "warnings.filterwarnings(\"ignore\")"
      ],
      "execution_count": 2,
      "outputs": []
    },
    {
      "cell_type": "code",
      "metadata": {
        "colab": {
          "base_uri": "https://localhost:8080/",
          "height": 198
        },
        "id": "ELsU8iIGLE2B",
        "outputId": "58e5de81-b487-4312-d2c4-39881ca109e0"
      },
      "source": [
        "data = pd.read_csv('train.csv')\n",
        "data=data[['text']]\n",
        "data.tail()"
      ],
      "execution_count": 3,
      "outputs": [
        {
          "output_type": "execute_result",
          "data": {
            "text/html": [
              "<div>\n",
              "<style scoped>\n",
              "    .dataframe tbody tr th:only-of-type {\n",
              "        vertical-align: middle;\n",
              "    }\n",
              "\n",
              "    .dataframe tbody tr th {\n",
              "        vertical-align: top;\n",
              "    }\n",
              "\n",
              "    .dataframe thead th {\n",
              "        text-align: right;\n",
              "    }\n",
              "</style>\n",
              "<table border=\"1\" class=\"dataframe\">\n",
              "  <thead>\n",
              "    <tr style=\"text-align: right;\">\n",
              "      <th></th>\n",
              "      <th>text</th>\n",
              "    </tr>\n",
              "  </thead>\n",
              "  <tbody>\n",
              "    <tr>\n",
              "      <th>16431</th>\n",
              "      <td>thinks lamb chops would be really nice right a...</td>\n",
              "    </tr>\n",
              "    <tr>\n",
              "      <th>16432</th>\n",
              "      <td>FC is back dear.</td>\n",
              "    </tr>\n",
              "    <tr>\n",
              "      <th>16433</th>\n",
              "      <td>ONE OF THE WORST DAYS OF MY LIFE.</td>\n",
              "    </tr>\n",
              "    <tr>\n",
              "      <th>16434</th>\n",
              "      <td>sunburnt again</td>\n",
              "    </tr>\n",
              "    <tr>\n",
              "      <th>16435</th>\n",
              "      <td>Spending a weekend doing nothing but being do...</td>\n",
              "    </tr>\n",
              "  </tbody>\n",
              "</table>\n",
              "</div>"
            ],
            "text/plain": [
              "                                                    text\n",
              "16431  thinks lamb chops would be really nice right a...\n",
              "16432                                   FC is back dear.\n",
              "16433                  ONE OF THE WORST DAYS OF MY LIFE.\n",
              "16434                                     sunburnt again\n",
              "16435   Spending a weekend doing nothing but being do..."
            ]
          },
          "metadata": {
            "tags": []
          },
          "execution_count": 3
        }
      ]
    },
    {
      "cell_type": "code",
      "metadata": {
        "id": "g8FmhkHWGzwq"
      },
      "source": [
        "data = data.dropna()\n",
        "data = data.reset_index()\n",
        "data['text'].astype(str)"
      ],
      "execution_count": null,
      "outputs": []
    },
    {
      "cell_type": "code",
      "metadata": {
        "id": "vE6dUnU8w7B8"
      },
      "source": [
        "def decontracted(phrase):\n",
        "  # specific\n",
        "  phrase = phrase.lower()\n",
        "  phrase = re.sub(r\"won't\", \"will not\", phrase)\n",
        "  phrase = re.sub(r\"can\\'t\", \"can not\", phrase)\n",
        "  # general\n",
        "  phrase = re.sub(r\"n\\'t\", \" not\", phrase)\n",
        "  phrase = re.sub(r\"\\'re\", \" are\", phrase)\n",
        "  phrase = re.sub(r\"\\'s\", \" is\", phrase)\n",
        "  phrase = re.sub(r\"\\'d\", \" would\", phrase)\n",
        "  phrase = re.sub(r\"\\'ll\", \" will\", phrase)\n",
        "  phrase = re.sub(r\"\\'t\", \" not\", phrase)\n",
        "  phrase = re.sub(r\"\\'ve\", \" have\", phrase)\n",
        "  phrase = re.sub(r\"\\'m\", \" am\", phrase)\n",
        "  phrase = re.sub('[^A-Za-z0-9]+', ' ', phrase)\n",
        "  phrase = re.sub('https?://\\S+|www\\.\\S+', '', phrase)\n",
        "  phrase = phrase.replace('\\\\r', ' ')\n",
        "  phrase = phrase.replace('\\\\\"', ' ')\n",
        "  phrase = phrase.replace('\\\\n', ' ')\n",
        "\n",
        "  return phrase"
      ],
      "execution_count": 5,
      "outputs": []
    },
    {
      "cell_type": "code",
      "metadata": {
        "id": "avolYTxUTbMl"
      },
      "source": [
        "# https://gist.github.com/sebleier/554280\n",
        "# we are removing the words from the stop words list: 'no', 'nor', 'not'\n",
        "stopwords= ['i', 'me', 'my', 'myself', 'we', 'our', 'ours', 'ourselves', 'you', \"you're\", \"you've\",\\\n",
        "            \"you'll\", \"you'd\", 'your', 'yours', 'yourself', 'yourselves', 'he', 'him', 'his', 'himself', \\\n",
        "            'she', \"she's\", 'her', 'hers', 'herself', 'it', \"it's\", 'its', 'itself', 'they', 'them', 'their',\\\n",
        "            'theirs', 'themselves', 'what', 'which', 'who', 'whom', 'this', 'that', \"that'll\", 'these', 'those', \\\n",
        "            'am', 'is', 'are', 'was', 'were', 'be', 'been', 'being', 'have', 'has', 'had', 'having', 'do', 'does', \\\n",
        "            'did', 'doing', 'a', 'an', 'the', 'and', 'but', 'if', 'or', 'because', 'as', 'until', 'while', 'of', \\\n",
        "            'at', 'by', 'for', 'with', 'about', 'against', 'between', 'into', 'through', 'during', 'before', 'after',\\\n",
        "            'above', 'below', 'to', 'from', 'up', 'down', 'in', 'out', 'on', 'off', 'over', 'under', 'again', 'further',\\\n",
        "            'then', 'once', 'here', 'there', 'when', 'where', 'why', 'how', 'all', 'any', 'both', 'each', 'few', 'more',\\\n",
        "            'most', 'other', 'some', 'such', 'only', 'own', 'same', 'so', 'than', 'too', 'very', \\\n",
        "            's', 't', 'can', 'will', 'just', 'should', \"should've\", 'now', 'd', 'll', 'm', 'o', 're', \\\n",
        "            've', 'y', 'ain', 'aren','won']"
      ],
      "execution_count": 6,
      "outputs": []
    },
    {
      "cell_type": "code",
      "metadata": {
        "colab": {
          "base_uri": "https://localhost:8080/"
        },
        "id": "fU7DB18VUAig",
        "outputId": "c17b40bb-f81c-4cec-abb4-8b4c7f86c080"
      },
      "source": [
        "from tqdm import tqdm\n",
        "cleaned_text = []\n",
        "# tqdm is for printing the status bar\n",
        "for sentance in tqdm(data['text'].values):\n",
        "    sent = decontracted(sentance)\n",
        "    sent = sent.replace('\\\\r', ' ')\n",
        "    sent = sent.replace('\\\\\"', ' ')\n",
        "    sent = sent.replace('\\\\n', ' ')\n",
        "    sent = re.sub('[^A-Za-z0-9]+', ' ', sent)\n",
        "    # https://gist.github.com/sebleier/554280\n",
        "    sent = ' '.join(e for e in sent.split() if e not in stopwords)\n",
        "    cleaned_text.append(sent.lower().strip())"
      ],
      "execution_count": 8,
      "outputs": [
        {
          "output_type": "stream",
          "text": [
            "100%|██████████| 16435/16435 [00:00<00:00, 23955.86it/s]\n"
          ],
          "name": "stderr"
        }
      ]
    },
    {
      "cell_type": "code",
      "metadata": {
        "id": "ZUOGe8MHGnst"
      },
      "source": [
        "data['cleaned_text']=cleaned_text"
      ],
      "execution_count": 9,
      "outputs": []
    },
    {
      "cell_type": "code",
      "metadata": {
        "colab": {
          "base_uri": "https://localhost:8080/",
          "height": 108
        },
        "id": "EsBjCuY1VWpd",
        "outputId": "07e13da0-592a-4b26-af40-148578a631b6"
      },
      "source": [
        "data.head(2)"
      ],
      "execution_count": 12,
      "outputs": [
        {
          "output_type": "execute_result",
          "data": {
            "text/html": [
              "<div>\n",
              "<style scoped>\n",
              "    .dataframe tbody tr th:only-of-type {\n",
              "        vertical-align: middle;\n",
              "    }\n",
              "\n",
              "    .dataframe tbody tr th {\n",
              "        vertical-align: top;\n",
              "    }\n",
              "\n",
              "    .dataframe thead th {\n",
              "        text-align: right;\n",
              "    }\n",
              "</style>\n",
              "<table border=\"1\" class=\"dataframe\">\n",
              "  <thead>\n",
              "    <tr style=\"text-align: right;\">\n",
              "      <th></th>\n",
              "      <th>index</th>\n",
              "      <th>text</th>\n",
              "      <th>cleaned_text</th>\n",
              "    </tr>\n",
              "  </thead>\n",
              "  <tbody>\n",
              "    <tr>\n",
              "      <th>0</th>\n",
              "      <td>0</td>\n",
              "      <td>I`d have responded, if I were going</td>\n",
              "      <td>responded going</td>\n",
              "    </tr>\n",
              "    <tr>\n",
              "      <th>1</th>\n",
              "      <td>1</td>\n",
              "      <td>Sooo SAD I will miss you here in San Diego!!!</td>\n",
              "      <td>sooo sad miss san diego</td>\n",
              "    </tr>\n",
              "  </tbody>\n",
              "</table>\n",
              "</div>"
            ],
            "text/plain": [
              "   index  ...             cleaned_text\n",
              "0      0  ...          responded going\n",
              "1      1  ...  sooo sad miss san diego\n",
              "\n",
              "[2 rows x 3 columns]"
            ]
          },
          "metadata": {
            "tags": []
          },
          "execution_count": 12
        }
      ]
    },
    {
      "cell_type": "code",
      "metadata": {
        "colab": {
          "base_uri": "https://localhost:8080/"
        },
        "id": "Cgl5w_Z0bHqc",
        "outputId": "0037f25a-100a-429a-8729-4087cae08fac"
      },
      "source": [
        "X=data['cleaned_text'].values\n",
        "print(X.shape)"
      ],
      "execution_count": 13,
      "outputs": [
        {
          "output_type": "stream",
          "text": [
            "(16435,)\n"
          ],
          "name": "stdout"
        }
      ]
    },
    {
      "cell_type": "code",
      "metadata": {
        "colab": {
          "base_uri": "https://localhost:8080/"
        },
        "id": "g-MSW5SdbHf9",
        "outputId": "39ddba62-d6a2-41b9-f64a-fd8dbc151f0b"
      },
      "source": [
        "split=int(len(X)*0.8)\n",
        "print(split)\n",
        "X_train, X_test =X[:split], X[split:]"
      ],
      "execution_count": 14,
      "outputs": [
        {
          "output_type": "stream",
          "text": [
            "13148\n"
          ],
          "name": "stdout"
        }
      ]
    },
    {
      "cell_type": "code",
      "metadata": {
        "colab": {
          "base_uri": "https://localhost:8080/"
        },
        "id": "7bXBtmsfbHVS",
        "outputId": "c76ab256-37ae-4865-bce8-85cf23a04798"
      },
      "source": [
        "from sklearn.feature_extraction.text import TfidfVectorizer\n",
        "print(\"=\"*70)\n",
        "print(\"Before vectorizations:\")\n",
        "print(\"-\"*70)\n",
        "print(\"shape of X_train=\", X_train.shape)\n",
        "print(\"shape of X_train=\", X_test.shape)\n",
        "print(\"=\"*70)\n",
        "vectorizer = TfidfVectorizer(min_df=10,ngram_range=(1, 2))\n",
        "\n",
        "X_train_tfidf = vectorizer.fit_transform(X_train)\n",
        "X_test_tfidf = vectorizer.transform(X_test)\n",
        "\n",
        "\n",
        "print(\"After vectorizations:\")\n",
        "print(\"-\"*70)\n",
        "print(\"shape of X_train_tfidf=\", X_train_tfidf.shape)\n",
        "print(\"shape of X_test_tfidf=\", X_test_tfidf.shape)\n",
        "print(\"=\"*70)\n"
      ],
      "execution_count": 15,
      "outputs": [
        {
          "output_type": "stream",
          "text": [
            "======================================================================\n",
            "Before vectorizations:\n",
            "----------------------------------------------------------------------\n",
            "shape of X_train= (13148,)\n",
            "shape of X_train= (3287,)\n",
            "======================================================================\n",
            "After vectorizations:\n",
            "----------------------------------------------------------------------\n",
            "shape of X_train_tfidf= (13148, 1596)\n",
            "shape of X_test_tfidf= (3287, 1596)\n",
            "======================================================================\n"
          ],
          "name": "stdout"
        }
      ]
    },
    {
      "cell_type": "code",
      "metadata": {
        "colab": {
          "base_uri": "https://localhost:8080/"
        },
        "id": "9yp8VUWdbHK-",
        "outputId": "db416b3b-fd92-4fca-f3de-67d471923d0b"
      },
      "source": [
        "#https://blog.cambridgespark.com/how-to-determine-the-optimal-number-of-clustrs-for-k-means-clustering-14f27070048f\n",
        "from sklearn.cluster import KMeans\n",
        "\n",
        "sum_of_squared_distances = []\n",
        "K_hyperparameter= range(1,15)\n",
        "for i in tqdm(K_hyperparameter):\n",
        "  km = KMeans(n_clusters=i,n_jobs=-1)\n",
        "  km = km.fit(X_train_tfidf )\n",
        "  sum_of_squared_distances.append(km.inertia_)\n",
        "\n"
      ],
      "execution_count": 90,
      "outputs": [
        {
          "output_type": "stream",
          "text": [
            "100%|██████████| 14/14 [03:28<00:00, 14.88s/it]\n"
          ],
          "name": "stderr"
        }
      ]
    },
    {
      "cell_type": "code",
      "metadata": {
        "colab": {
          "base_uri": "https://localhost:8080/",
          "height": 518
        },
        "id": "6qObRsdFbHAx",
        "outputId": "77a2db36-8e75-4ba9-f6cf-12a31bc5738f"
      },
      "source": [
        "plt.figure(figsize=(10,8))\n",
        "plt.grid()\n",
        "plt.plot(K_hyperparameter,\n",
        "         sum_of_squared_distances, 'bx-')\n",
        "plt.xlabel('k',fontsize=20)\n",
        "plt.ylabel('sum_of_squared_distances',\n",
        "           fontsize=20)\n",
        "plt.title('Elbow Method Hyperparameter Tuning to find Out Best K on TFIDF X_ train',\n",
        "          fontsize=22)\n",
        "plt.show()"
      ],
      "execution_count": 15,
      "outputs": [
        {
          "output_type": "display_data",
          "data": {
            "image/png": "[encoded data removed]",
            "text/plain": [
              "<Figure size 720x576 with 1 Axes>"
            ]
          },
          "metadata": {
            "tags": [],
            "needs_background": "light"
          }
        }
      ]
    },
    {
      "cell_type": "code",
      "metadata": {
        "id": "mP_UD79LbG2i"
      },
      "source": [
        "from sklearn.cluster import KMeans\n",
        "kmeans = KMeans(n_clusters=2)\n",
        "kmeans=kmeans.fit(X_train_tfidf )\n",
        "y_means= kmeans.predict(X_train_tfidf )\n",
        "cluster_centers_ = kmeans.cluster_centers_\n",
        "y_labels=kmeans.labels_\n"
      ],
      "execution_count": 72,
      "outputs": []
    },
    {
      "cell_type": "code",
      "metadata": {
        "id": "hHj4yCPXbGsX"
      },
      "source": [
        "#refrences::#https://github.com/dileepteja3/Clustering-on-Donors-choose/blob/master/dileep.teja3%40gmail.com_10.ipynb\n",
        "\n",
        "text = X_train\n",
        "words_text_datapoints=[]\n",
        "cluster1_words = ' '\n",
        "cluster2_words = ' '\n",
        "\n",
        "for i in range(kmeans.labels_.shape[0]):\n",
        "  if kmeans.labels_[i] == 0:\n",
        "    words_text_datapoints.append(1)\n",
        "    cluster1_words+=text[i]\n",
        "\n",
        "  else:\n",
        "    kmeans.labels_[i] == 1\n",
        "    words_text_datapoints.append(1)\n",
        "    cluster2_words+=text[i]"
      ],
      "execution_count": 77,
      "outputs": []
    },
    {
      "cell_type": "code",
      "metadata": {
        "colab": {
          "base_uri": "https://localhost:8080/",
          "height": 481
        },
        "id": "KLjomEs9w66C",
        "outputId": "0870409d-cd75-4f65-e6f9-81e9564a2efc"
      },
      "source": [
        "from wordcloud import WordCloud\n",
        "wordcloud = WordCloud(width = 500, height = 500,\n",
        "                      background_color ='black',\n",
        "                      min_font_size = 10).generate(cluster1_words)\n",
        "# plot the WordCloud image\n",
        "plt.figure(figsize = (6, 6))\n",
        "plt.imshow(wordcloud)\n",
        "plt.axis(\"off\")\n",
        "plt.tight_layout(pad = 0)\n",
        "plt.title('WordCloud Representation of Cluster 1 from K-means ',fontsize=15)\n",
        "plt.show()\n"
      ],
      "execution_count": 80,
      "outputs": [
        {
          "output_type": "display_data",
          "data": {
            "image/png": "[encoded data removed]",
            "text/plain": [
              "<Figure size 432x432 with 1 Axes>"
            ]
          },
          "metadata": {
            "tags": [],
            "needs_background": "light"
          }
        }
      ]
    },
    {
      "cell_type": "code",
      "metadata": {
        "colab": {
          "base_uri": "https://localhost:8080/",
          "height": 481
        },
        "id": "_nv8_SbBtphG",
        "outputId": "b8077ca9-a91b-4b66-b94c-74de8f283c46"
      },
      "source": [
        "from wordcloud import WordCloud\n",
        "wordcloud = WordCloud(width = 500, height = 500,\n",
        "                      background_color ='black',\n",
        "                      min_font_size = 10).generate(cluster2_words)\n",
        "# plot the WordCloud image\n",
        "plt.figure(figsize = (6, 6))\n",
        "plt.imshow(wordcloud)\n",
        "plt.axis(\"off\")\n",
        "plt.tight_layout(pad = 0)\n",
        "plt.title('WordCloud Representation of Cluster 2 from K-means ',fontsize=15)\n",
        "plt.show()\n"
      ],
      "execution_count": 79,
      "outputs": [
        {
          "output_type": "display_data",
          "data": {
            "image/png": "[encoded data removed]",
            "text/plain": [
              "<Figure size 432x432 with 1 Axes>"
            ]
          },
          "metadata": {
            "tags": [],
            "needs_background": "light"
          }
        }
      ]
    },
    {
      "cell_type": "code",
      "metadata": {
        "id": "hxlh8grJaLGM"
      },
      "source": [
        ""
      ],
      "execution_count": null,
      "outputs": []
    },
    {
      "cell_type": "code",
      "metadata": {
        "id": "RnqnLtVcaK8d"
      },
      "source": [
        ""
      ],
      "execution_count": null,
      "outputs": []
    },
    {
      "cell_type": "code",
      "metadata": {
        "id": "kJbewBD_aKyX"
      },
      "source": [
        ""
      ],
      "execution_count": null,
      "outputs": []
    },
    {
      "cell_type": "code",
      "metadata": {
        "id": "2lFJHjEhaKog"
      },
      "source": [
        ""
      ],
      "execution_count": null,
      "outputs": []
    },
    {
      "cell_type": "code",
      "metadata": {
        "id": "2llS3k-TaKde"
      },
      "source": [
        ""
      ],
      "execution_count": null,
      "outputs": []
    },
    {
      "cell_type": "code",
      "metadata": {
        "id": "0LAVC7BYaKT-"
      },
      "source": [
        ""
      ],
      "execution_count": null,
      "outputs": []
    },
    {
      "cell_type": "code",
      "metadata": {
        "id": "n0pxrifdaKKh"
      },
      "source": [
        ""
      ],
      "execution_count": null,
      "outputs": []
    },
    {
      "cell_type": "code",
      "metadata": {
        "id": "oXyFSi0KaKBC"
      },
      "source": [
        ""
      ],
      "execution_count": null,
      "outputs": []
    },
    {
      "cell_type": "code",
      "metadata": {
        "id": "IaMhbVXlaJ34"
      },
      "source": [
        ""
      ],
      "execution_count": null,
      "outputs": []
    },
    {
      "cell_type": "code",
      "metadata": {
        "id": "ODQh7vB-aJuv"
      },
      "source": [
        ""
      ],
      "execution_count": null,
      "outputs": []
    },
    {
      "cell_type": "code",
      "metadata": {
        "id": "pmL0ez1MaJk6"
      },
      "source": [
        ""
      ],
      "execution_count": null,
      "outputs": []
    },
    {
      "cell_type": "code",
      "metadata": {
        "id": "UTkzRx47aJb_"
      },
      "source": [
        ""
      ],
      "execution_count": null,
      "outputs": []
    },
    {
      "cell_type": "code",
      "metadata": {
        "id": "-IKkmproaJTA"
      },
      "source": [
        ""
      ],
      "execution_count": null,
      "outputs": []
    },
    {
      "cell_type": "code",
      "metadata": {
        "id": "YKgyXUzEaJIv"
      },
      "source": [
        ""
      ],
      "execution_count": null,
      "outputs": []
    },
    {
      "cell_type": "code",
      "metadata": {
        "id": "l6cYusf8aI-h"
      },
      "source": [
        ""
      ],
      "execution_count": null,
      "outputs": []
    },
    {
      "cell_type": "code",
      "metadata": {
        "id": "MD1e_73aaI1X"
      },
      "source": [
        ""
      ],
      "execution_count": null,
      "outputs": []
    },
    {
      "cell_type": "code",
      "metadata": {
        "id": "0mlEY_zzaIsQ"
      },
      "source": [
        ""
      ],
      "execution_count": null,
      "outputs": []
    },
    {
      "cell_type": "code",
      "metadata": {
        "id": "wXElEycQaIjg"
      },
      "source": [
        ""
      ],
      "execution_count": null,
      "outputs": []
    },
    {
      "cell_type": "code",
      "metadata": {
        "id": "refx6QUKaIRJ"
      },
      "source": [
        ""
      ],
      "execution_count": null,
      "outputs": []
    },
    {
      "cell_type": "code",
      "metadata": {
        "id": "UrlRV90OaIHY"
      },
      "source": [
        ""
      ],
      "execution_count": null,
      "outputs": []
    },
    {
      "cell_type": "code",
      "metadata": {
        "id": "RlnYj3n2aH_C"
      },
      "source": [
        ""
      ],
      "execution_count": null,
      "outputs": []
    },
    {
      "cell_type": "code",
      "metadata": {
        "id": "BiNxyXEjaH2g"
      },
      "source": [
        ""
      ],
      "execution_count": null,
      "outputs": []
    },
    {
      "cell_type": "code",
      "metadata": {
        "colab": {
          "base_uri": "https://localhost:8080/",
          "height": 108
        },
        "id": "jObu1iX0aHs2",
        "outputId": "db9b19d4-7b99-44d4-844e-fb65a450e4e2"
      },
      "source": [
        "data.head(2)"
      ],
      "execution_count": 17,
      "outputs": [
        {
          "output_type": "execute_result",
          "data": {
            "text/html": [
              "<div>\n",
              "<style scoped>\n",
              "    .dataframe tbody tr th:only-of-type {\n",
              "        vertical-align: middle;\n",
              "    }\n",
              "\n",
              "    .dataframe tbody tr th {\n",
              "        vertical-align: top;\n",
              "    }\n",
              "\n",
              "    .dataframe thead th {\n",
              "        text-align: right;\n",
              "    }\n",
              "</style>\n",
              "<table border=\"1\" class=\"dataframe\">\n",
              "  <thead>\n",
              "    <tr style=\"text-align: right;\">\n",
              "      <th></th>\n",
              "      <th>index</th>\n",
              "      <th>text</th>\n",
              "      <th>cleaned_text</th>\n",
              "    </tr>\n",
              "  </thead>\n",
              "  <tbody>\n",
              "    <tr>\n",
              "      <th>0</th>\n",
              "      <td>0</td>\n",
              "      <td>I`d have responded, if I were going</td>\n",
              "      <td>responded going</td>\n",
              "    </tr>\n",
              "    <tr>\n",
              "      <th>1</th>\n",
              "      <td>1</td>\n",
              "      <td>Sooo SAD I will miss you here in San Diego!!!</td>\n",
              "      <td>sooo sad miss san diego</td>\n",
              "    </tr>\n",
              "  </tbody>\n",
              "</table>\n",
              "</div>"
            ],
            "text/plain": [
              "   index  ...             cleaned_text\n",
              "0      0  ...          responded going\n",
              "1      1  ...  sooo sad miss san diego\n",
              "\n",
              "[2 rows x 3 columns]"
            ]
          },
          "metadata": {
            "tags": []
          },
          "execution_count": 17
        }
      ]
    },
    {
      "cell_type": "code",
      "metadata": {
        "id": "qgkTcOA_h2A1"
      },
      "source": [
        "data['label'] = ''\n",
        "for i in range(data.shape[0]):\n",
        "  label = TextBlob(data['text'].iloc[i])\n",
        "  data['label'][i] = label.sentiment.polarity\n",
        "  #print(\"Index: \", i ,  \"label\" , label.sentiment.polarity)"
      ],
      "execution_count": 18,
      "outputs": []
    },
    {
      "cell_type": "code",
      "metadata": {
        "id": "sgFJE9DVYgKo"
      },
      "source": [
        "data['label_on_cleaned_text'] = ''\n",
        "for i in range(data.shape[0]):\n",
        "  label = TextBlob(data['cleaned_text'].iloc[i])\n",
        "  data['label_on_cleaned_text'][i] = label.sentiment.polarity\n",
        "  #print(\"Index: \", i ,  \"label\" , label.sentiment.polarity)"
      ],
      "execution_count": 19,
      "outputs": []
    },
    {
      "cell_type": "code",
      "metadata": {
        "colab": {
          "base_uri": "https://localhost:8080/",
          "height": 138
        },
        "id": "ZIocoUPAmfyN",
        "outputId": "99a452fe-eb0c-406d-aa70-73964f51fd87"
      },
      "source": [
        "data.head(3)"
      ],
      "execution_count": 20,
      "outputs": [
        {
          "output_type": "execute_result",
          "data": {
            "text/html": [
              "<div>\n",
              "<style scoped>\n",
              "    .dataframe tbody tr th:only-of-type {\n",
              "        vertical-align: middle;\n",
              "    }\n",
              "\n",
              "    .dataframe tbody tr th {\n",
              "        vertical-align: top;\n",
              "    }\n",
              "\n",
              "    .dataframe thead th {\n",
              "        text-align: right;\n",
              "    }\n",
              "</style>\n",
              "<table border=\"1\" class=\"dataframe\">\n",
              "  <thead>\n",
              "    <tr style=\"text-align: right;\">\n",
              "      <th></th>\n",
              "      <th>index</th>\n",
              "      <th>text</th>\n",
              "      <th>cleaned_text</th>\n",
              "      <th>label</th>\n",
              "      <th>label_on_cleaned_text</th>\n",
              "    </tr>\n",
              "  </thead>\n",
              "  <tbody>\n",
              "    <tr>\n",
              "      <th>0</th>\n",
              "      <td>0</td>\n",
              "      <td>I`d have responded, if I were going</td>\n",
              "      <td>responded going</td>\n",
              "      <td>0</td>\n",
              "      <td>0</td>\n",
              "    </tr>\n",
              "    <tr>\n",
              "      <th>1</th>\n",
              "      <td>1</td>\n",
              "      <td>Sooo SAD I will miss you here in San Diego!!!</td>\n",
              "      <td>sooo sad miss san diego</td>\n",
              "      <td>-0.976562</td>\n",
              "      <td>-0.5</td>\n",
              "    </tr>\n",
              "    <tr>\n",
              "      <th>2</th>\n",
              "      <td>2</td>\n",
              "      <td>my boss is bullying me...</td>\n",
              "      <td>boss bullying</td>\n",
              "      <td>0</td>\n",
              "      <td>0</td>\n",
              "    </tr>\n",
              "  </tbody>\n",
              "</table>\n",
              "</div>"
            ],
            "text/plain": [
              "   index  ... label_on_cleaned_text\n",
              "0      0  ...                     0\n",
              "1      1  ...                  -0.5\n",
              "2      2  ...                     0\n",
              "\n",
              "[3 rows x 5 columns]"
            ]
          },
          "metadata": {
            "tags": []
          },
          "execution_count": 20
        }
      ]
    },
    {
      "cell_type": "code",
      "metadata": {
        "id": "WfPhWFK_XVPM"
      },
      "source": [
        ""
      ],
      "execution_count": 32,
      "outputs": []
    },
    {
      "cell_type": "code",
      "metadata": {
        "id": "Mkq96hdEXQfe"
      },
      "source": [
        ""
      ],
      "execution_count": 33,
      "outputs": []
    },
    {
      "cell_type": "code",
      "metadata": {
        "colab": {
          "base_uri": "https://localhost:8080/",
          "height": 198
        },
        "id": "oZ2dajIAWw1s",
        "outputId": "d9eff9ca-399b-4621-8d65-6b34e8b0f8e2"
      },
      "source": [
        "data[['label','label_on_cleaned_text']].head(5)"
      ],
      "execution_count": 21,
      "outputs": [
        {
          "output_type": "execute_result",
          "data": {
            "text/html": [
              "<div>\n",
              "<style scoped>\n",
              "    .dataframe tbody tr th:only-of-type {\n",
              "        vertical-align: middle;\n",
              "    }\n",
              "\n",
              "    .dataframe tbody tr th {\n",
              "        vertical-align: top;\n",
              "    }\n",
              "\n",
              "    .dataframe thead th {\n",
              "        text-align: right;\n",
              "    }\n",
              "</style>\n",
              "<table border=\"1\" class=\"dataframe\">\n",
              "  <thead>\n",
              "    <tr style=\"text-align: right;\">\n",
              "      <th></th>\n",
              "      <th>label</th>\n",
              "      <th>label_on_cleaned_text</th>\n",
              "    </tr>\n",
              "  </thead>\n",
              "  <tbody>\n",
              "    <tr>\n",
              "      <th>0</th>\n",
              "      <td>0</td>\n",
              "      <td>0</td>\n",
              "    </tr>\n",
              "    <tr>\n",
              "      <th>1</th>\n",
              "      <td>-0.976562</td>\n",
              "      <td>-0.5</td>\n",
              "    </tr>\n",
              "    <tr>\n",
              "      <th>2</th>\n",
              "      <td>0</td>\n",
              "      <td>0</td>\n",
              "    </tr>\n",
              "    <tr>\n",
              "      <th>3</th>\n",
              "      <td>0</td>\n",
              "      <td>0</td>\n",
              "    </tr>\n",
              "    <tr>\n",
              "      <th>4</th>\n",
              "      <td>0</td>\n",
              "      <td>0</td>\n",
              "    </tr>\n",
              "  </tbody>\n",
              "</table>\n",
              "</div>"
            ],
            "text/plain": [
              "      label label_on_cleaned_text\n",
              "0         0                     0\n",
              "1 -0.976562                  -0.5\n",
              "2         0                     0\n",
              "3         0                     0\n",
              "4         0                     0"
            ]
          },
          "metadata": {
            "tags": []
          },
          "execution_count": 21
        }
      ]
    },
    {
      "cell_type": "code",
      "metadata": {
        "colab": {
          "base_uri": "https://localhost:8080/"
        },
        "id": "V3hyfsUfw2Mk",
        "outputId": "8bf89715-0df9-4278-f26e-fa3d4ae76068"
      },
      "source": [
        "data = data.reset_index()\n",
        "data['label_on_cleaned_text'].replace('', np.nan, inplace=True)\n",
        "data['label_on_cleaned_text'].dropna()"
      ],
      "execution_count": 22,
      "outputs": [
        {
          "output_type": "execute_result",
          "data": {
            "text/plain": [
              "0        0.000000\n",
              "1       -0.500000\n",
              "2        0.000000\n",
              "3        0.000000\n",
              "4        0.000000\n",
              "           ...   \n",
              "16430    0.378571\n",
              "16431    0.000000\n",
              "16432   -1.000000\n",
              "16433    0.000000\n",
              "16434    0.000000\n",
              "Name: label_on_cleaned_text, Length: 16435, dtype: float64"
            ]
          },
          "metadata": {
            "tags": []
          },
          "execution_count": 22
        }
      ]
    },
    {
      "cell_type": "code",
      "metadata": {
        "colab": {
          "base_uri": "https://localhost:8080/"
        },
        "id": "eDF7CrgzttUP",
        "outputId": "d6b20f76-877a-4768-e8c9-835eb8da97e8"
      },
      "source": [
        "type(data.label[500])"
      ],
      "execution_count": 23,
      "outputs": [
        {
          "output_type": "execute_result",
          "data": {
            "text/plain": [
              "float"
            ]
          },
          "metadata": {
            "tags": []
          },
          "execution_count": 23
        }
      ]
    },
    {
      "cell_type": "code",
      "metadata": {
        "id": "0pihI8TGhDyl"
      },
      "source": [
        "#data.shape"
      ],
      "execution_count": 181,
      "outputs": []
    },
    {
      "cell_type": "code",
      "metadata": {
        "id": "RasYtO70r4om"
      },
      "source": [
        ""
      ],
      "execution_count": null,
      "outputs": []
    },
    {
      "cell_type": "code",
      "metadata": {
        "id": "S6dFIz2wNgD_"
      },
      "source": [
        "def polarity_to_label(x):\n",
        "    if(x >= 0.01 ):\n",
        "      return 1\n",
        "    else:\n",
        "      return 0"
      ],
      "execution_count": 24,
      "outputs": []
    },
    {
      "cell_type": "code",
      "metadata": {
        "colab": {
          "base_uri": "https://localhost:8080/"
        },
        "id": "FmhvQ04vsr_e",
        "outputId": "57ab1491-be8c-41a5-d40d-d55190c79e42"
      },
      "source": [
        "#polarity_to_label(0.20005)"
      ],
      "execution_count": 207,
      "outputs": [
        {
          "output_type": "execute_result",
          "data": {
            "text/plain": [
              "1"
            ]
          },
          "metadata": {
            "tags": []
          },
          "execution_count": 207
        }
      ]
    },
    {
      "cell_type": "code",
      "metadata": {
        "colab": {
          "base_uri": "https://localhost:8080/"
        },
        "id": "mOK3FAFnNzU9",
        "outputId": "c3b519f1-648d-48ea-a994-b93f5d184ada"
      },
      "source": [
        "#data.columns"
      ],
      "execution_count": 208,
      "outputs": [
        {
          "output_type": "execute_result",
          "data": {
            "text/plain": [
              "Index(['text', 'label'], dtype='object')"
            ]
          },
          "metadata": {
            "tags": []
          },
          "execution_count": 208
        }
      ]
    },
    {
      "cell_type": "code",
      "metadata": {
        "id": "w1JCLw4ts2kM"
      },
      "source": [
        "#type(data.label[0])"
      ],
      "execution_count": 210,
      "outputs": []
    },
    {
      "cell_type": "code",
      "metadata": {
        "id": "GCAnzdmOm1Q3"
      },
      "source": [
        "#data.label = data.label.astype(float)"
      ],
      "execution_count": 209,
      "outputs": []
    },
    {
      "cell_type": "code",
      "metadata": {
        "colab": {
          "base_uri": "https://localhost:8080/"
        },
        "id": "SnvPMLvEuK8X",
        "outputId": "a08315d7-81df-4268-e226-f5925013b56f"
      },
      "source": [
        "#polarity_to_label(data.label[500])"
      ],
      "execution_count": 212,
      "outputs": [
        {
          "output_type": "execute_result",
          "data": {
            "text/plain": [
              "1"
            ]
          },
          "metadata": {
            "tags": []
          },
          "execution_count": 212
        }
      ]
    },
    {
      "cell_type": "code",
      "metadata": {
        "id": "2y9_TzbFvhwT"
      },
      "source": [
        "#print(count)"
      ],
      "execution_count": 15,
      "outputs": []
    },
    {
      "cell_type": "code",
      "metadata": {
        "id": "oIphCGTbNuxV"
      },
      "source": [
        "data[\"binary_label\"] = data['label'].apply(polarity_to_label)"
      ],
      "execution_count": 25,
      "outputs": []
    },
    {
      "cell_type": "code",
      "metadata": {
        "colab": {
          "base_uri": "https://localhost:8080/",
          "height": 95
        },
        "id": "h9K7We2rZGnq",
        "outputId": "d513e4fc-69f4-4382-a936-6c168873805d"
      },
      "source": [
        "data.head(1)"
      ],
      "execution_count": 26,
      "outputs": [
        {
          "output_type": "execute_result",
          "data": {
            "text/html": [
              "<div>\n",
              "<style scoped>\n",
              "    .dataframe tbody tr th:only-of-type {\n",
              "        vertical-align: middle;\n",
              "    }\n",
              "\n",
              "    .dataframe tbody tr th {\n",
              "        vertical-align: top;\n",
              "    }\n",
              "\n",
              "    .dataframe thead th {\n",
              "        text-align: right;\n",
              "    }\n",
              "</style>\n",
              "<table border=\"1\" class=\"dataframe\">\n",
              "  <thead>\n",
              "    <tr style=\"text-align: right;\">\n",
              "      <th></th>\n",
              "      <th>level_0</th>\n",
              "      <th>index</th>\n",
              "      <th>text</th>\n",
              "      <th>cleaned_text</th>\n",
              "      <th>label</th>\n",
              "      <th>label_on_cleaned_text</th>\n",
              "      <th>binary_label</th>\n",
              "    </tr>\n",
              "  </thead>\n",
              "  <tbody>\n",
              "    <tr>\n",
              "      <th>0</th>\n",
              "      <td>0</td>\n",
              "      <td>0</td>\n",
              "      <td>I`d have responded, if I were going</td>\n",
              "      <td>responded going</td>\n",
              "      <td>0</td>\n",
              "      <td>0.0</td>\n",
              "      <td>0</td>\n",
              "    </tr>\n",
              "  </tbody>\n",
              "</table>\n",
              "</div>"
            ],
            "text/plain": [
              "   level_0  index  ... label_on_cleaned_text binary_label\n",
              "0        0      0  ...                   0.0            0\n",
              "\n",
              "[1 rows x 7 columns]"
            ]
          },
          "metadata": {
            "tags": []
          },
          "execution_count": 26
        }
      ]
    },
    {
      "cell_type": "code",
      "metadata": {
        "id": "wLObI5qMY6RW"
      },
      "source": [
        "data[\"binary_label_cleaned_text\"] = data['label_on_cleaned_text'].apply(polarity_to_label)"
      ],
      "execution_count": 27,
      "outputs": []
    },
    {
      "cell_type": "code",
      "metadata": {
        "colab": {
          "base_uri": "https://localhost:8080/",
          "height": 150
        },
        "id": "i6zEsENGpfZS",
        "outputId": "eaf3f2bd-ad3f-4807-f689-799bcc8b6fcd"
      },
      "source": [
        "data.head(1)"
      ],
      "execution_count": 28,
      "outputs": [
        {
          "output_type": "execute_result",
          "data": {
            "text/html": [
              "<div>\n",
              "<style scoped>\n",
              "    .dataframe tbody tr th:only-of-type {\n",
              "        vertical-align: middle;\n",
              "    }\n",
              "\n",
              "    .dataframe tbody tr th {\n",
              "        vertical-align: top;\n",
              "    }\n",
              "\n",
              "    .dataframe thead th {\n",
              "        text-align: right;\n",
              "    }\n",
              "</style>\n",
              "<table border=\"1\" class=\"dataframe\">\n",
              "  <thead>\n",
              "    <tr style=\"text-align: right;\">\n",
              "      <th></th>\n",
              "      <th>level_0</th>\n",
              "      <th>index</th>\n",
              "      <th>text</th>\n",
              "      <th>cleaned_text</th>\n",
              "      <th>label</th>\n",
              "      <th>label_on_cleaned_text</th>\n",
              "      <th>binary_label</th>\n",
              "      <th>binary_label_cleaned_text</th>\n",
              "    </tr>\n",
              "  </thead>\n",
              "  <tbody>\n",
              "    <tr>\n",
              "      <th>0</th>\n",
              "      <td>0</td>\n",
              "      <td>0</td>\n",
              "      <td>I`d have responded, if I were going</td>\n",
              "      <td>responded going</td>\n",
              "      <td>0</td>\n",
              "      <td>0.0</td>\n",
              "      <td>0</td>\n",
              "      <td>0</td>\n",
              "    </tr>\n",
              "  </tbody>\n",
              "</table>\n",
              "</div>"
            ],
            "text/plain": [
              "   level_0  index  ... binary_label binary_label_cleaned_text\n",
              "0        0      0  ...            0                         0\n",
              "\n",
              "[1 rows x 8 columns]"
            ]
          },
          "metadata": {
            "tags": []
          },
          "execution_count": 28
        }
      ]
    },
    {
      "cell_type": "code",
      "metadata": {
        "id": "1YL1bFdeQByZ"
      },
      "source": [
        "data=data[['text',\n",
        "            'cleaned_text', \n",
        "            'label','label_on_cleaned_text', \n",
        "            'binary_label',\n",
        "            'binary_label_cleaned_text']]"
      ],
      "execution_count": 29,
      "outputs": []
    },
    {
      "cell_type": "code",
      "metadata": {
        "colab": {
          "base_uri": "https://localhost:8080/"
        },
        "id": "TSjCIKiHZfYJ",
        "outputId": "89f61556-8cfb-4eb3-a197-6d23ff546972"
      },
      "source": [
        "data.columns"
      ],
      "execution_count": 30,
      "outputs": [
        {
          "output_type": "execute_result",
          "data": {
            "text/plain": [
              "Index(['text', 'cleaned_text', 'label', 'label_on_cleaned_text',\n",
              "       'binary_label', 'binary_label_cleaned_text'],\n",
              "      dtype='object')"
            ]
          },
          "metadata": {
            "tags": []
          },
          "execution_count": 30
        }
      ]
    },
    {
      "cell_type": "code",
      "metadata": {
        "colab": {
          "base_uri": "https://localhost:8080/"
        },
        "id": "oSab7a0dZuuJ",
        "outputId": "a3a45678-9bab-457f-f84d-63f2006d0238"
      },
      "source": [
        "data.binary_label_cleaned_text.value_counts(normalize=True)"
      ],
      "execution_count": 31,
      "outputs": [
        {
          "output_type": "execute_result",
          "data": {
            "text/plain": [
              "0    0.552905\n",
              "1    0.447095\n",
              "Name: binary_label_cleaned_text, dtype: float64"
            ]
          },
          "metadata": {
            "tags": []
          },
          "execution_count": 31
        }
      ]
    },
    {
      "cell_type": "code",
      "metadata": {
        "colab": {
          "base_uri": "https://localhost:8080/"
        },
        "id": "4kCGi3VoZ2w_",
        "outputId": "ac90230b-9462-426c-805e-7779b8c5f0f2"
      },
      "source": [
        "data.binary_label.value_counts(normalize=True)"
      ],
      "execution_count": 32,
      "outputs": [
        {
          "output_type": "execute_result",
          "data": {
            "text/plain": [
              "0    0.538789\n",
              "1    0.461211\n",
              "Name: binary_label, dtype: float64"
            ]
          },
          "metadata": {
            "tags": []
          },
          "execution_count": 32
        }
      ]
    },
    {
      "cell_type": "code",
      "metadata": {
        "colab": {
          "base_uri": "https://localhost:8080/",
          "height": 301
        },
        "id": "dQnA7gzzZoI-",
        "outputId": "f1224346-4103-4d9d-82f9-97a67297fde9"
      },
      "source": [
        "((data.binary_label_cleaned_text.value_counts()/len(data))*100).plot(kind='bar')\n",
        "plt.title(\"Binary_label_distibution\",fontsize=20)"
      ],
      "execution_count": 33,
      "outputs": [
        {
          "output_type": "execute_result",
          "data": {
            "text/plain": [
              "Text(0.5, 1.0, 'Binary_label_distibution')"
            ]
          },
          "metadata": {
            "tags": []
          },
          "execution_count": 33
        },
        {
          "output_type": "display_data",
          "data": {
            "image/png": "[encoded data removed]",
            "text/plain": [
              "<Figure size 432x288 with 1 Axes>"
            ]
          },
          "metadata": {
            "tags": [],
            "needs_background": "light"
          }
        }
      ]
    },
    {
      "cell_type": "code",
      "metadata": {
        "colab": {
          "base_uri": "https://localhost:8080/",
          "height": 280
        },
        "id": "wTYOtT1HOcte",
        "outputId": "fb4a2551-27ee-4f98-b765-07bed5ba0006"
      },
      "source": [
        "((data.binary_label.value_counts()/len(data))*100).plot(kind='bar')"
      ],
      "execution_count": 34,
      "outputs": [
        {
          "output_type": "execute_result",
          "data": {
            "text/plain": [
              "<matplotlib.axes._subplots.AxesSubplot at 0x7fd70b085c90>"
            ]
          },
          "metadata": {
            "tags": []
          },
          "execution_count": 34
        },
        {
          "output_type": "display_data",
          "data": {
            "image/png": "[encoded data removed]",
            "text/plain": [
              "<Figure size 432x288 with 1 Axes>"
            ]
          },
          "metadata": {
            "tags": [],
            "needs_background": "light"
          }
        }
      ]
    },
    {
      "cell_type": "code",
      "metadata": {
        "id": "wqt04IlEqZX5"
      },
      "source": [
        ""
      ],
      "execution_count": null,
      "outputs": []
    },
    {
      "cell_type": "code",
      "metadata": {
        "id": "qLXNEkKYqZNy"
      },
      "source": [
        ""
      ],
      "execution_count": null,
      "outputs": []
    },
    {
      "cell_type": "code",
      "metadata": {
        "id": "H1AHzX1kqZDY"
      },
      "source": [
        ""
      ],
      "execution_count": null,
      "outputs": []
    },
    {
      "cell_type": "code",
      "metadata": {
        "id": "l2Nw5Z81qY33"
      },
      "source": [
        ""
      ],
      "execution_count": null,
      "outputs": []
    },
    {
      "cell_type": "code",
      "metadata": {
        "id": "Ih3CdWhOqYt6"
      },
      "source": [
        ""
      ],
      "execution_count": null,
      "outputs": []
    },
    {
      "cell_type": "code",
      "metadata": {
        "id": "zTaxId38qYkK"
      },
      "source": [
        ""
      ],
      "execution_count": null,
      "outputs": []
    },
    {
      "cell_type": "code",
      "metadata": {
        "id": "deRgqr4oqYZo"
      },
      "source": [
        ""
      ],
      "execution_count": null,
      "outputs": []
    },
    {
      "cell_type": "code",
      "metadata": {
        "colab": {
          "base_uri": "https://localhost:8080/"
        },
        "id": "wu6A4J1bRmIK",
        "outputId": "16cec802-7923-4e00-abac-dd1840890c94"
      },
      "source": [
        ""
      ],
      "execution_count": 20,
      "outputs": [
        {
          "output_type": "execute_result",
          "data": {
            "text/plain": [
              "27480"
            ]
          },
          "metadata": {
            "tags": []
          },
          "execution_count": 20
        }
      ]
    },
    {
      "cell_type": "code",
      "metadata": {
        "colab": {
          "base_uri": "https://localhost:8080/"
        },
        "id": "56gPAfqNrOIP",
        "outputId": "f44922d8-d497-42cd-ef31-4962d65eba94"
      },
      "source": [
        "data.columns"
      ],
      "execution_count": 35,
      "outputs": [
        {
          "output_type": "execute_result",
          "data": {
            "text/plain": [
              "Index(['text', 'cleaned_text', 'label', 'label_on_cleaned_text',\n",
              "       'binary_label', 'binary_label_cleaned_text'],\n",
              "      dtype='object')"
            ]
          },
          "metadata": {
            "tags": []
          },
          "execution_count": 35
        }
      ]
    },
    {
      "cell_type": "code",
      "metadata": {
        "id": "C_PZm_D3nZ1r"
      },
      "source": [
        "X_for_NB=data['cleaned_text']\n",
        "y_for_NB=data['binary_label_cleaned_text']"
      ],
      "execution_count": 36,
      "outputs": []
    },
    {
      "cell_type": "code",
      "metadata": {
        "id": "aq8gu6zRq1uv"
      },
      "source": [
        "from sklearn.model_selection import train_test_split\n",
        "X_train, X_test, y_train, y_test = train_test_split(X_for_NB,\n",
        "                                                    y_for_NB,\n",
        "                                                    test_size=0.2, \n",
        "                                                    stratify=y_for_NB)"
      ],
      "execution_count": 37,
      "outputs": []
    },
    {
      "cell_type": "code",
      "metadata": {
        "colab": {
          "base_uri": "https://localhost:8080/"
        },
        "id": "Hl1TAwIrrfDR",
        "outputId": "3a5c1995-f162-4dcb-816f-aaa5527cc811"
      },
      "source": [
        "type(X_train)"
      ],
      "execution_count": 38,
      "outputs": [
        {
          "output_type": "execute_result",
          "data": {
            "text/plain": [
              "pandas.core.series.Series"
            ]
          },
          "metadata": {
            "tags": []
          },
          "execution_count": 38
        }
      ]
    },
    {
      "cell_type": "code",
      "metadata": {
        "colab": {
          "base_uri": "https://localhost:8080/"
        },
        "id": "fOaxxxw5nZsG",
        "outputId": "19cb527d-a999-44cf-effe-3672f9f74378"
      },
      "source": [
        "print(\"=\"*70)\n",
        "print(\"Before vectorizations\")\n",
        "print(\"-\"*70)\n",
        "print(\"shape of X_train:\", X_train.shape, \", shape of y_train :\", y_train.shape)\n",
        "print(\"shape of X_test:\", X_test.shape,\", shape of y_test:\", y_test.shape)\n",
        "print(\"=\"*70)\n",
        "\n",
        "vectorizer = TfidfVectorizer(min_df=10)\n",
        "X_train_tfidf_NB=vectorizer.fit_transform(X_train.values)\n",
        "\n",
        "X_test_tfidf_NB=vectorizer.transform(X_test.values)\n",
        "\n",
        "\n",
        "print(\"After vectorizations\")\n",
        "print(\"-\"*70)\n",
        "print(\"shape of X_train_tfidf_NB:\",X_train_tfidf_NB.shape,\n",
        "      \", shape of y_train: \",y_train.shape)\n",
        "print(\"shape of X_test_tfidf_NB:\", X_test_tfidf_NB.shape,\n",
        "      \", shape of y_test:\", y_test.shape)\n",
        "print(\"=\"*70)"
      ],
      "execution_count": 39,
      "outputs": [
        {
          "output_type": "stream",
          "text": [
            "======================================================================\n",
            "Before vectorizations\n",
            "----------------------------------------------------------------------\n",
            "shape of X_train: (13148,) , shape of y_train : (13148,)\n",
            "shape of X_test: (3287,) , shape of y_test: (3287,)\n",
            "======================================================================\n",
            "After vectorizations\n",
            "----------------------------------------------------------------------\n",
            "shape of X_train_tfidf_NB: (13148, 1360) , shape of y_train:  (13148,)\n",
            "shape of X_test_tfidf_NB: (3287, 1360) , shape of y_test: (3287,)\n",
            "======================================================================\n"
          ],
          "name": "stdout"
        }
      ]
    },
    {
      "cell_type": "code",
      "metadata": {
        "id": "K-stf8uNnZix"
      },
      "source": [
        ""
      ],
      "execution_count": null,
      "outputs": []
    },
    {
      "cell_type": "code",
      "metadata": {
        "id": "t5fpWO-OnZZJ"
      },
      "source": [
        "from sklearn.model_selection import GridSearchCV\n",
        "from scipy.stats import randint as sp_randint\n",
        "from sklearn.model_selection import RandomizedSearchCV\n",
        "import math\n",
        "from sklearn.naive_bayes import MultinomialNB\n",
        "from sklearn.metrics import accuracy_score"
      ],
      "execution_count": 40,
      "outputs": []
    },
    {
      "cell_type": "code",
      "metadata": {
        "colab": {
          "base_uri": "https://localhost:8080/",
          "height": 570
        },
        "id": "r2LbZ2c8nZPS",
        "outputId": "5bdc7734-9d1d-44f8-bd6d-e869ce25f40d"
      },
      "source": [
        "###https://stackoverflow.com/questions/57136676/sklearn-model-selection-gridsearchcv-is-throwing-keyerror-mean-train-score\n",
        "\n",
        "NB = MultinomialNB(alpha=i)\n",
        "parameters = {'alpha':[0.00001,0.0001, \n",
        "                       0.001, 0.01,\n",
        "                       0.1, 1,10, 100, \n",
        "                       1000, 10000,100000]}\n",
        "clf = RandomizedSearchCV(NB,\n",
        "                         parameters, \n",
        "                         cv=10, \n",
        "                         scoring='accuracy',\n",
        "                         return_train_score=True)\n",
        "clf.fit(X_train_tfidf_NB, y_train) \n",
        "\n",
        "results = pd.DataFrame.from_dict(clf.cv_results_)\n",
        "results = results.sort_values(['param_alpha'])\n",
        "\n",
        "train_acc= results['mean_train_score']\n",
        "train_acc_std= results['std_train_score']\n",
        "cv_acc = results['mean_test_score'] \n",
        "cv_acc_std=results['std_test_score']\n",
        "alpha_NB = results['param_alpha']\n",
        "\n",
        "log_alpha_NB=[]\n",
        "for i in alpha_NB:\n",
        "    x=math.log(10*i)\n",
        "    log_alpha_NB.append(x)\n",
        "\n",
        "plt.figure(figsize=(8,6))\n",
        "plt.plot(log_alpha_NB, train_acc, label='Train acc')\n",
        "plt.plot(log_alpha_NB, cv_acc, label='CV acc')\n",
        "\n",
        "plt.scatter(log_alpha_NB, train_acc, label='Train acc points')\n",
        "plt.scatter(log_alpha_NB, cv_acc, label='CV acc points')\n",
        "\n",
        "plt.legend()\n",
        "plt.xlabel(\"log(10*alpha_NB): hyperparameter\",fontsize=18)\n",
        "plt.ylabel(\"accuracy\",fontsize=18)\n",
        "plt.title(\"Hyper parameter Vs accuracy plot\",fontsize=20)\n",
        "plt.grid()\n",
        "plt.show()\n",
        "\n",
        "\n",
        "best_alpha=clf.best_params_\n",
        "print(\"=\"*100)\n",
        "print(\"Best_hyperparameter_NB_tfidf:\",best_alpha)\n",
        "Best_hyperparameter_NB_tfidf=best_alpha.get(\"alpha\")\n",
        "print(\"=\"*100)\n",
        "results.head(1)"
      ],
      "execution_count": 41,
      "outputs": [
        {
          "output_type": "display_data",
          "data": {
            "image/png": "[encoded data removed]",
            "text/plain": [
              "<Figure size 576x432 with 1 Axes>"
            ]
          },
          "metadata": {
            "tags": [],
            "needs_background": "light"
          }
        },
        {
          "output_type": "stream",
          "text": [
            "====================================================================================================\n",
            "Best_hyperparameter_NB_tfidf: {'alpha': 1}\n",
            "====================================================================================================\n"
          ],
          "name": "stdout"
        },
        {
          "output_type": "execute_result",
          "data": {
            "text/html": [
              "<div>\n",
              "<style scoped>\n",
              "    .dataframe tbody tr th:only-of-type {\n",
              "        vertical-align: middle;\n",
              "    }\n",
              "\n",
              "    .dataframe tbody tr th {\n",
              "        vertical-align: top;\n",
              "    }\n",
              "\n",
              "    .dataframe thead th {\n",
              "        text-align: right;\n",
              "    }\n",
              "</style>\n",
              "<table border=\"1\" class=\"dataframe\">\n",
              "  <thead>\n",
              "    <tr style=\"text-align: right;\">\n",
              "      <th></th>\n",
              "      <th>mean_fit_time</th>\n",
              "      <th>std_fit_time</th>\n",
              "      <th>mean_score_time</th>\n",
              "      <th>std_score_time</th>\n",
              "      <th>param_alpha</th>\n",
              "      <th>params</th>\n",
              "      <th>split0_test_score</th>\n",
              "      <th>split1_test_score</th>\n",
              "      <th>split2_test_score</th>\n",
              "      <th>split3_test_score</th>\n",
              "      <th>split4_test_score</th>\n",
              "      <th>split5_test_score</th>\n",
              "      <th>split6_test_score</th>\n",
              "      <th>split7_test_score</th>\n",
              "      <th>split8_test_score</th>\n",
              "      <th>split9_test_score</th>\n",
              "      <th>mean_test_score</th>\n",
              "      <th>std_test_score</th>\n",
              "      <th>rank_test_score</th>\n",
              "      <th>split0_train_score</th>\n",
              "      <th>split1_train_score</th>\n",
              "      <th>split2_train_score</th>\n",
              "      <th>split3_train_score</th>\n",
              "      <th>split4_train_score</th>\n",
              "      <th>split5_train_score</th>\n",
              "      <th>split6_train_score</th>\n",
              "      <th>split7_train_score</th>\n",
              "      <th>split8_train_score</th>\n",
              "      <th>split9_train_score</th>\n",
              "      <th>mean_train_score</th>\n",
              "      <th>std_train_score</th>\n",
              "    </tr>\n",
              "  </thead>\n",
              "  <tbody>\n",
              "    <tr>\n",
              "      <th>9</th>\n",
              "      <td>0.003121</td>\n",
              "      <td>0.000078</td>\n",
              "      <td>0.000445</td>\n",
              "      <td>0.000035</td>\n",
              "      <td>1e-05</td>\n",
              "      <td>{'alpha': 1e-05}</td>\n",
              "      <td>0.853992</td>\n",
              "      <td>0.838023</td>\n",
              "      <td>0.839544</td>\n",
              "      <td>0.83346</td>\n",
              "      <td>0.840304</td>\n",
              "      <td>0.856274</td>\n",
              "      <td>0.847909</td>\n",
              "      <td>0.851711</td>\n",
              "      <td>0.821157</td>\n",
              "      <td>0.831811</td>\n",
              "      <td>0.841418</td>\n",
              "      <td>0.010532</td>\n",
              "      <td>6</td>\n",
              "      <td>0.880757</td>\n",
              "      <td>0.883462</td>\n",
              "      <td>0.883969</td>\n",
              "      <td>0.883715</td>\n",
              "      <td>0.884222</td>\n",
              "      <td>0.883631</td>\n",
              "      <td>0.8838</td>\n",
              "      <td>0.879828</td>\n",
              "      <td>0.885499</td>\n",
              "      <td>0.884654</td>\n",
              "      <td>0.883354</td>\n",
              "      <td>0.001644</td>\n",
              "    </tr>\n",
              "  </tbody>\n",
              "</table>\n",
              "</div>"
            ],
            "text/plain": [
              "   mean_fit_time  std_fit_time  ...  mean_train_score  std_train_score\n",
              "9       0.003121      0.000078  ...          0.883354         0.001644\n",
              "\n",
              "[1 rows x 31 columns]"
            ]
          },
          "metadata": {
            "tags": []
          },
          "execution_count": 41
        }
      ]
    },
    {
      "cell_type": "code",
      "metadata": {
        "colab": {
          "base_uri": "https://localhost:8080/"
        },
        "id": "YO-86G0M0OiJ",
        "outputId": "a5ef1a9d-2927-410d-a62c-64be0448124d"
      },
      "source": [
        ""
      ],
      "execution_count": 116,
      "outputs": [
        {
          "output_type": "execute_result",
          "data": {
            "text/plain": [
              "1"
            ]
          },
          "metadata": {
            "tags": []
          },
          "execution_count": 116
        }
      ]
    },
    {
      "cell_type": "code",
      "metadata": {
        "colab": {
          "base_uri": "https://localhost:8080/"
        },
        "id": "FxmGvNUJnZGS",
        "outputId": "17083423-db1a-43cf-efd6-9d4e355739e4"
      },
      "source": [
        "NB = MultinomialNB(alpha=best_alpha['alpha'])\n",
        "NB.fit(X_train_tfidf_NB, y_train)\n",
        "\n",
        "y_train_pred = NB.predict(X_train_tfidf_NB)\n",
        "y_test_pred = NB.predict(X_test_tfidf_NB)\n",
        "\n",
        "print(\"=\"*80)\n",
        "print(\"Train Accuracy using Naive Bayes Classifier:\",\n",
        "      accuracy_score(y_train,y_train_pred))\n",
        "print(\"-\"*80)\n",
        "print(\"Test Accuracy using Naive Bayes Classifier:\",\n",
        "      accuracy_score(y_test,y_test_pred))\n",
        "print(\"=\"*80)"
      ],
      "execution_count": 42,
      "outputs": [
        {
          "output_type": "stream",
          "text": [
            "================================================================================\n",
            "Train Accuracy using Naive Bayes Classifier: 0.8821113477334956\n",
            "--------------------------------------------------------------------------------\n",
            "Test Accuracy using Naive Bayes Classifier: 0.8548828719196836\n",
            "================================================================================\n"
          ],
          "name": "stdout"
        }
      ]
    },
    {
      "cell_type": "code",
      "metadata": {
        "id": "EUGsCV8XnY9T"
      },
      "source": [
        ""
      ],
      "execution_count": null,
      "outputs": []
    },
    {
      "cell_type": "code",
      "metadata": {
        "id": "48GISOq8nY0R"
      },
      "source": [
        ""
      ],
      "execution_count": null,
      "outputs": []
    },
    {
      "cell_type": "code",
      "metadata": {
        "id": "N5QJgjgYnYrh"
      },
      "source": [
        ""
      ],
      "execution_count": null,
      "outputs": []
    },
    {
      "cell_type": "code",
      "metadata": {
        "id": "SRrwdR1qnYh8"
      },
      "source": [
        ""
      ],
      "execution_count": null,
      "outputs": []
    },
    {
      "cell_type": "code",
      "metadata": {
        "id": "pJt0aKRWnYZZ"
      },
      "source": [
        ""
      ],
      "execution_count": null,
      "outputs": []
    },
    {
      "cell_type": "code",
      "metadata": {
        "id": "BFi0IcKcnYQt"
      },
      "source": [
        ""
      ],
      "execution_count": null,
      "outputs": []
    },
    {
      "cell_type": "code",
      "metadata": {
        "id": "8dtgKL2WnYGY"
      },
      "source": [
        ""
      ],
      "execution_count": null,
      "outputs": []
    },
    {
      "cell_type": "code",
      "metadata": {
        "id": "TwuHb5ChnX9r"
      },
      "source": [
        ""
      ],
      "execution_count": null,
      "outputs": []
    },
    {
      "cell_type": "code",
      "metadata": {
        "id": "NSZHh_4inX1X"
      },
      "source": [
        ""
      ],
      "execution_count": null,
      "outputs": []
    },
    {
      "cell_type": "code",
      "metadata": {
        "id": "PUYTyamjnXs5"
      },
      "source": [
        ""
      ],
      "execution_count": null,
      "outputs": []
    },
    {
      "cell_type": "code",
      "metadata": {
        "id": "EcMouzs0nXko"
      },
      "source": [
        ""
      ],
      "execution_count": null,
      "outputs": []
    },
    {
      "cell_type": "code",
      "metadata": {
        "id": "dlRQgW5PnXcj"
      },
      "source": [
        ""
      ],
      "execution_count": null,
      "outputs": []
    },
    {
      "cell_type": "code",
      "metadata": {
        "id": "AHhdwbM0nXUj"
      },
      "source": [
        ""
      ],
      "execution_count": null,
      "outputs": []
    },
    {
      "cell_type": "code",
      "metadata": {
        "colab": {
          "base_uri": "https://localhost:8080/",
          "height": 388
        },
        "id": "q3Gp7_JNnXMp",
        "outputId": "6efff127-d6c1-489c-9054-80f77d6388df"
      },
      "source": [
        "data.head(5)"
      ],
      "execution_count": 43,
      "outputs": [
        {
          "output_type": "execute_result",
          "data": {
            "text/html": [
              "<div>\n",
              "<style scoped>\n",
              "    .dataframe tbody tr th:only-of-type {\n",
              "        vertical-align: middle;\n",
              "    }\n",
              "\n",
              "    .dataframe tbody tr th {\n",
              "        vertical-align: top;\n",
              "    }\n",
              "\n",
              "    .dataframe thead th {\n",
              "        text-align: right;\n",
              "    }\n",
              "</style>\n",
              "<table border=\"1\" class=\"dataframe\">\n",
              "  <thead>\n",
              "    <tr style=\"text-align: right;\">\n",
              "      <th></th>\n",
              "      <th>text</th>\n",
              "      <th>cleaned_text</th>\n",
              "      <th>label</th>\n",
              "      <th>label_on_cleaned_text</th>\n",
              "      <th>binary_label</th>\n",
              "      <th>binary_label_cleaned_text</th>\n",
              "    </tr>\n",
              "  </thead>\n",
              "  <tbody>\n",
              "    <tr>\n",
              "      <th>0</th>\n",
              "      <td>I`d have responded, if I were going</td>\n",
              "      <td>responded going</td>\n",
              "      <td>0</td>\n",
              "      <td>0.0</td>\n",
              "      <td>0</td>\n",
              "      <td>0</td>\n",
              "    </tr>\n",
              "    <tr>\n",
              "      <th>1</th>\n",
              "      <td>Sooo SAD I will miss you here in San Diego!!!</td>\n",
              "      <td>sooo sad miss san diego</td>\n",
              "      <td>-0.976562</td>\n",
              "      <td>-0.5</td>\n",
              "      <td>0</td>\n",
              "      <td>0</td>\n",
              "    </tr>\n",
              "    <tr>\n",
              "      <th>2</th>\n",
              "      <td>my boss is bullying me...</td>\n",
              "      <td>boss bullying</td>\n",
              "      <td>0</td>\n",
              "      <td>0.0</td>\n",
              "      <td>0</td>\n",
              "      <td>0</td>\n",
              "    </tr>\n",
              "    <tr>\n",
              "      <th>3</th>\n",
              "      <td>what interview! leave me alone</td>\n",
              "      <td>interview leave alone</td>\n",
              "      <td>0</td>\n",
              "      <td>0.0</td>\n",
              "      <td>0</td>\n",
              "      <td>0</td>\n",
              "    </tr>\n",
              "    <tr>\n",
              "      <th>4</th>\n",
              "      <td>Sons of ****, why couldn`t they put them on t...</td>\n",
              "      <td>sons couldn put releases already bought</td>\n",
              "      <td>0</td>\n",
              "      <td>0.0</td>\n",
              "      <td>0</td>\n",
              "      <td>0</td>\n",
              "    </tr>\n",
              "  </tbody>\n",
              "</table>\n",
              "</div>"
            ],
            "text/plain": [
              "                                                text  ... binary_label_cleaned_text\n",
              "0                I`d have responded, if I were going  ...                         0\n",
              "1      Sooo SAD I will miss you here in San Diego!!!  ...                         0\n",
              "2                          my boss is bullying me...  ...                         0\n",
              "3                     what interview! leave me alone  ...                         0\n",
              "4   Sons of ****, why couldn`t they put them on t...  ...                         0\n",
              "\n",
              "[5 rows x 6 columns]"
            ]
          },
          "metadata": {
            "tags": []
          },
          "execution_count": 43
        }
      ]
    },
    {
      "cell_type": "code",
      "metadata": {
        "id": "Az5KtKnOxpaP"
      },
      "source": [
        "#"
      ],
      "execution_count": 126,
      "outputs": []
    },
    {
      "cell_type": "code",
      "metadata": {
        "colab": {
          "base_uri": "https://localhost:8080/",
          "height": 198
        },
        "id": "G-JXKJJNNoG2",
        "outputId": "9288743b-25f5-426f-d58b-cf6f771f4345"
      },
      "source": [
        "df=data[['cleaned_text', 'binary_label_cleaned_text']].sample(4000)\n",
        "df.head()"
      ],
      "execution_count": 44,
      "outputs": [
        {
          "output_type": "execute_result",
          "data": {
            "text/html": [
              "<div>\n",
              "<style scoped>\n",
              "    .dataframe tbody tr th:only-of-type {\n",
              "        vertical-align: middle;\n",
              "    }\n",
              "\n",
              "    .dataframe tbody tr th {\n",
              "        vertical-align: top;\n",
              "    }\n",
              "\n",
              "    .dataframe thead th {\n",
              "        text-align: right;\n",
              "    }\n",
              "</style>\n",
              "<table border=\"1\" class=\"dataframe\">\n",
              "  <thead>\n",
              "    <tr style=\"text-align: right;\">\n",
              "      <th></th>\n",
              "      <th>cleaned_text</th>\n",
              "      <th>binary_label_cleaned_text</th>\n",
              "    </tr>\n",
              "  </thead>\n",
              "  <tbody>\n",
              "    <tr>\n",
              "      <th>13335</th>\n",
              "      <td>everyone left gone bed</td>\n",
              "      <td>0</td>\n",
              "    </tr>\n",
              "    <tr>\n",
              "      <th>4570</th>\n",
              "      <td>bbcrew dude im sleepy went bed soon got home w...</td>\n",
              "      <td>0</td>\n",
              "    </tr>\n",
              "    <tr>\n",
              "      <th>16389</th>\n",
              "      <td>oh thank thank hoping video online</td>\n",
              "      <td>0</td>\n",
              "    </tr>\n",
              "    <tr>\n",
              "      <th>5889</th>\n",
              "      <td>haha hi mum wow yes modern need get facebook a...</td>\n",
              "      <td>1</td>\n",
              "    </tr>\n",
              "    <tr>\n",
              "      <th>5868</th>\n",
              "      <td>need men give input fill u time soon</td>\n",
              "      <td>0</td>\n",
              "    </tr>\n",
              "  </tbody>\n",
              "</table>\n",
              "</div>"
            ],
            "text/plain": [
              "                                            cleaned_text  binary_label_cleaned_text\n",
              "13335                             everyone left gone bed                          0\n",
              "4570   bbcrew dude im sleepy went bed soon got home w...                          0\n",
              "16389                 oh thank thank hoping video online                          0\n",
              "5889   haha hi mum wow yes modern need get facebook a...                          1\n",
              "5868                need men give input fill u time soon                          0"
            ]
          },
          "metadata": {
            "tags": []
          },
          "execution_count": 44
        }
      ]
    },
    {
      "cell_type": "code",
      "metadata": {
        "colab": {
          "base_uri": "https://localhost:8080/"
        },
        "id": "W_79u-_HWoLV",
        "outputId": "c2db11e1-d332-457a-860d-850e7b6ddce6"
      },
      "source": [
        "df.binary_label_cleaned_text.value_counts()/len(df)"
      ],
      "execution_count": 45,
      "outputs": [
        {
          "output_type": "execute_result",
          "data": {
            "text/plain": [
              "0    0.55575\n",
              "1    0.44425\n",
              "Name: binary_label_cleaned_text, dtype: float64"
            ]
          },
          "metadata": {
            "tags": []
          },
          "execution_count": 45
        }
      ]
    },
    {
      "cell_type": "code",
      "metadata": {
        "colab": {
          "base_uri": "https://localhost:8080/"
        },
        "id": "fKuiAiRcR1vz",
        "outputId": "a9375d11-1b49-4391-99fc-79ad3ee725bd"
      },
      "source": [
        "print(df.shape)"
      ],
      "execution_count": 46,
      "outputs": [
        {
          "output_type": "stream",
          "text": [
            "(4000, 2)\n"
          ],
          "name": "stdout"
        }
      ]
    },
    {
      "cell_type": "code",
      "metadata": {
        "id": "NXHb8XMQnVw6"
      },
      "source": [
        ""
      ],
      "execution_count": null,
      "outputs": []
    },
    {
      "cell_type": "code",
      "metadata": {
        "id": "uTYIyefinVpD"
      },
      "source": [
        ""
      ],
      "execution_count": null,
      "outputs": []
    },
    {
      "cell_type": "code",
      "metadata": {
        "id": "gxE7kNCvnVhh"
      },
      "source": [
        ""
      ],
      "execution_count": null,
      "outputs": []
    },
    {
      "cell_type": "code",
      "metadata": {
        "id": "GSh3tDhonVaN"
      },
      "source": [
        ""
      ],
      "execution_count": null,
      "outputs": []
    },
    {
      "cell_type": "code",
      "metadata": {
        "id": "IjLz8IKenVRk"
      },
      "source": [
        ""
      ],
      "execution_count": null,
      "outputs": []
    },
    {
      "cell_type": "code",
      "metadata": {
        "id": "NWk_nyNinVKW"
      },
      "source": [
        ""
      ],
      "execution_count": null,
      "outputs": []
    },
    {
      "cell_type": "code",
      "metadata": {
        "id": "-kWDoSfq72CC"
      },
      "source": [
        ""
      ],
      "execution_count": null,
      "outputs": []
    },
    {
      "cell_type": "code",
      "metadata": {
        "id": "yKFoNa76nU0r"
      },
      "source": [
        "seq_length=df['cleaned_text'].apply(lambda x:len(x.split()))"
      ],
      "execution_count": 47,
      "outputs": []
    },
    {
      "cell_type": "code",
      "metadata": {
        "colab": {
          "base_uri": "https://localhost:8080/",
          "height": 403
        },
        "id": "gcxRG-HSnUry",
        "outputId": "74a0947b-673d-4419-9334-9bebe7478ef3"
      },
      "source": [
        "plt.figure(figsize=(8,8))\n",
        "sns.displot(seq_length,kde='True')\n",
        "plt.title(\"lenght of text distribution\")\n",
        "plt.xlabel(\"sequence_length\")\n",
        "plt.grid()\n",
        "plt.show()"
      ],
      "execution_count": 48,
      "outputs": [
        {
          "output_type": "display_data",
          "data": {
            "text/plain": [
              "<Figure size 576x576 with 0 Axes>"
            ]
          },
          "metadata": {
            "tags": []
          }
        },
        {
          "output_type": "display_data",
          "data": {
            "image/png": "[encoded data removed]",
            "text/plain": [
              "<Figure size 360x360 with 1 Axes>"
            ]
          },
          "metadata": {
            "tags": [],
            "needs_background": "light"
          }
        }
      ]
    },
    {
      "cell_type": "code",
      "metadata": {
        "id": "pwnWFVFaQpq2"
      },
      "source": [
        "SEQ_LEN=32"
      ],
      "execution_count": 49,
      "outputs": []
    },
    {
      "cell_type": "code",
      "metadata": {
        "id": "aCLfDvJup6uO"
      },
      "source": [
        "#!pip install transformers"
      ],
      "execution_count": 52,
      "outputs": []
    },
    {
      "cell_type": "code",
      "metadata": {
        "colab": {
          "base_uri": "https://localhost:8080/",
          "height": 167,
          "referenced_widgets": [
            "9ea0253404c84ee0ad8cd29c3ffc0105",
            "cce6b636006d4330a79e0f2fbd735d21",
            "14ad9872f12f4092ac9286479f273e70",
            "48c35793e6604ae9b20a12b0115b3a99",
            "615173c5e38c43bfae3473ba09fc71a0",
            "3602b3aee8ed400cafe28abf17a088b2",
            "5f3f62c617b1421fa98133ff210356dc",
            "4f2e6f919db141a7b2a6da0cc72c4642",
            "847659d4ec1241059474a5588bdc2e25",
            "0a4bb2e8e15a42cc88542f44b0998b85",
            "ff2976b057cf43edbd29d101c34fc11c",
            "19f6338b4c8143b1b1a882d7e5e208b8",
            "69a0711e02914c75bc6dcc05d9dc7517",
            "032a1351758c4c31b463f6597dae91d7",
            "5f3a900a19504e158441525717a4e49a",
            "3b077e0e0c044e439b0f28ea82d3bda5",
            "1285c84a9cbf45f2bf582467f4f8645e",
            "004e5dbaa97443b3a4b9b24df144f169",
            "99c3afa2d3c24a8381cd0f03aceafcaf",
            "b1555ea876a248bd8a96ecdf87fd4c22",
            "f71a0ac495ad4b0a821821a3a855f9b3",
            "73bd89d028634e3c96bcaeecded4e08b",
            "2381a6225e1f4441b7b29fa1cd018927",
            "c73d748c3e15494fa10fc8854779cc96"
          ]
        },
        "id": "eTevq3LbQbpi",
        "outputId": "231996ea-6edb-4919-8202-68a0a7960f5d"
      },
      "source": [
        "from transformers import BertTokenizer\n",
        "tokenizer = BertTokenizer.from_pretrained('bert-base-uncased')"
      ],
      "execution_count": 53,
      "outputs": [
        {
          "output_type": "display_data",
          "data": {
            "application/vnd.jupyter.widget-view+json": {
              "model_id": "9ea0253404c84ee0ad8cd29c3ffc0105",
              "version_minor": 0,
              "version_major": 2
            },
            "text/plain": [
              "HBox(children=(FloatProgress(value=0.0, description='Downloading', max=231508.0, style=ProgressStyle(descripti…"
            ]
          },
          "metadata": {
            "tags": []
          }
        },
        {
          "output_type": "stream",
          "text": [
            "\n"
          ],
          "name": "stdout"
        },
        {
          "output_type": "display_data",
          "data": {
            "application/vnd.jupyter.widget-view+json": {
              "model_id": "847659d4ec1241059474a5588bdc2e25",
              "version_minor": 0,
              "version_major": 2
            },
            "text/plain": [
              "HBox(children=(FloatProgress(value=0.0, description='Downloading', max=28.0, style=ProgressStyle(description_w…"
            ]
          },
          "metadata": {
            "tags": []
          }
        },
        {
          "output_type": "stream",
          "text": [
            "\n"
          ],
          "name": "stdout"
        },
        {
          "output_type": "display_data",
          "data": {
            "application/vnd.jupyter.widget-view+json": {
              "model_id": "1285c84a9cbf45f2bf582467f4f8645e",
              "version_minor": 0,
              "version_major": 2
            },
            "text/plain": [
              "HBox(children=(FloatProgress(value=0.0, description='Downloading', max=466062.0, style=ProgressStyle(descripti…"
            ]
          },
          "metadata": {
            "tags": []
          }
        },
        {
          "output_type": "stream",
          "text": [
            "\n"
          ],
          "name": "stdout"
        }
      ]
    },
    {
      "cell_type": "code",
      "metadata": {
        "id": "RASw97qZQjz5"
      },
      "source": [
        "def tokenize(sentence):\n",
        "    tokens = tokenizer.encode_plus(sentence, max_length=32,\n",
        "                                   truncation=True, padding='max_length',\n",
        "                                   add_special_tokens=True, return_token_type_ids=False,\n",
        "                                   return_tensors='tf')\n",
        "    return tokens['input_ids'], tokens['attention_mask']"
      ],
      "execution_count": 54,
      "outputs": []
    },
    {
      "cell_type": "code",
      "metadata": {
        "id": "o6LjLKh7-QWc"
      },
      "source": [
        ""
      ],
      "execution_count": null,
      "outputs": []
    },
    {
      "cell_type": "code",
      "metadata": {
        "id": "IQIuN60JRP_B"
      },
      "source": [
        "Xids = np.zeros((len(df), 32))\n",
        "Xmask = np.zeros((len(df), 32))"
      ],
      "execution_count": 55,
      "outputs": []
    },
    {
      "cell_type": "code",
      "metadata": {
        "colab": {
          "base_uri": "https://localhost:8080/"
        },
        "id": "GvLk22DnRVAE",
        "outputId": "e06fd300-c7f7-4a24-a1b8-2aedca402668"
      },
      "source": [
        "print(\"=\"*50)\n",
        "print(\"shape of X_ids:\",Xids.shape)\n",
        "print(\"-\"*50)\n",
        "print(\"shape of X_mask:\",Xids.shape)\n",
        "print(\"=\"*50)"
      ],
      "execution_count": 56,
      "outputs": [
        {
          "output_type": "stream",
          "text": [
            "==================================================\n",
            "shape of X_ids: (4000, 32)\n",
            "--------------------------------------------------\n",
            "shape of X_mask: (4000, 32)\n",
            "==================================================\n"
          ],
          "name": "stdout"
        }
      ]
    },
    {
      "cell_type": "code",
      "metadata": {
        "id": "dEiTwFIkRb4M"
      },
      "source": [
        "for i, sequence in enumerate(df['cleaned_text']):\n",
        "    tokens = tokenize(sequence)\n",
        "    Xids[i, :], Xmask[i, :] = tokens[0], tokens[1]"
      ],
      "execution_count": 57,
      "outputs": []
    },
    {
      "cell_type": "code",
      "metadata": {
        "id": "1EhDhB6XSdZw"
      },
      "source": [
        "#Xmask"
      ],
      "execution_count": 212,
      "outputs": []
    },
    {
      "cell_type": "code",
      "metadata": {
        "id": "zAV8xmwSSlct"
      },
      "source": [
        ""
      ],
      "execution_count": 210,
      "outputs": []
    },
    {
      "cell_type": "code",
      "metadata": {
        "id": "I_3GZB2uVN9v"
      },
      "source": [
        ""
      ],
      "execution_count": 35,
      "outputs": []
    },
    {
      "cell_type": "code",
      "metadata": {
        "colab": {
          "base_uri": "https://localhost:8080/"
        },
        "id": "DzVhGjJKSK1a",
        "outputId": "3b73cf25-4e92-4ccf-dcc6-48a9553f2ab0"
      },
      "source": [
        "arr = df['binary_label_cleaned_text'].values\n",
        "labels = np.zeros((arr.size, arr.max()+1))\n",
        "print(arr.size)"
      ],
      "execution_count": 58,
      "outputs": [
        {
          "output_type": "stream",
          "text": [
            "4000\n"
          ],
          "name": "stdout"
        }
      ]
    },
    {
      "cell_type": "code",
      "metadata": {
        "id": "2tGMhCR3S49Z"
      },
      "source": [
        ""
      ],
      "execution_count": 34,
      "outputs": []
    },
    {
      "cell_type": "code",
      "metadata": {
        "colab": {
          "base_uri": "https://localhost:8080/"
        },
        "id": "7SmBVpZqW4q_",
        "outputId": "0dfa5933-a6cf-4e77-ce57-673f0bb7abf9"
      },
      "source": [
        ""
      ],
      "execution_count": 35,
      "outputs": [
        {
          "output_type": "execute_result",
          "data": {
            "text/plain": [
              "2000"
            ]
          },
          "metadata": {
            "tags": []
          },
          "execution_count": 35
        }
      ]
    },
    {
      "cell_type": "code",
      "metadata": {
        "colab": {
          "base_uri": "https://localhost:8080/"
        },
        "id": "nZnDlX9uS7dZ",
        "outputId": "e0e9df52-e23c-47e4-a694-f8acc7e849ee"
      },
      "source": [
        "labels[np.arange(arr.size), arr] = 1\n",
        "labels"
      ],
      "execution_count": 59,
      "outputs": [
        {
          "output_type": "execute_result",
          "data": {
            "text/plain": [
              "array([[1., 0.],\n",
              "       [1., 0.],\n",
              "       [1., 0.],\n",
              "       ...,\n",
              "       [0., 1.],\n",
              "       [1., 0.],\n",
              "       [1., 0.]])"
            ]
          },
          "metadata": {
            "tags": []
          },
          "execution_count": 59
        }
      ]
    },
    {
      "cell_type": "code",
      "metadata": {
        "id": "s-4ztSNRYBDt"
      },
      "source": [
        "#for i in range(len(labels)):\n",
        "  #print(labels[i])"
      ],
      "execution_count": 146,
      "outputs": []
    },
    {
      "cell_type": "code",
      "metadata": {
        "id": "fzfgkmfRTGuB"
      },
      "source": [
        "with open('tweet_xids.npy', 'wb') as f:\n",
        "    np.save(f, Xids)\n",
        "with open('tweet_xmask.npy', 'wb') as f:\n",
        "    np.save(f, Xmask)\n",
        "with open('tweet_labels.npy', 'wb') as f:\n",
        "    np.save(f, labels)"
      ],
      "execution_count": 60,
      "outputs": []
    },
    {
      "cell_type": "code",
      "metadata": {
        "id": "4taoYrSsTSuj"
      },
      "source": [
        "del df, Xids, Xmask, labels"
      ],
      "execution_count": 61,
      "outputs": []
    },
    {
      "cell_type": "code",
      "metadata": {
        "id": "9fLphYVJTMr5"
      },
      "source": [
        "with open('tweet_xids.npy', 'rb') as f:\n",
        "    Xids = np.load(f, allow_pickle=True)\n",
        "with open('tweet_xmask.npy', 'rb') as f:\n",
        "    Xmask = np.load(f, allow_pickle=True)\n",
        "with open('tweet_labels.npy', 'rb') as f:\n",
        "    labels = np.load(f, allow_pickle=True)"
      ],
      "execution_count": 62,
      "outputs": []
    },
    {
      "cell_type": "code",
      "metadata": {
        "id": "fDaLPxb1TWQG"
      },
      "source": [
        "import tensorflow as tf\n",
        "\n",
        "data = tf.data.Dataset.from_tensor_slices((Xids, Xmask, labels))"
      ],
      "execution_count": 63,
      "outputs": []
    },
    {
      "cell_type": "code",
      "metadata": {
        "id": "YEhHpxkBTYk5"
      },
      "source": [
        "SHUFFLE = 100000\n",
        "BATCH_SIZE = 16"
      ],
      "execution_count": 64,
      "outputs": []
    },
    {
      "cell_type": "code",
      "metadata": {
        "id": "GrtIT1LnYkE9"
      },
      "source": [
        "def map_func(input_ids, masks, labels):\n",
        "    return {'input_ids': input_ids, 'attention_mask': masks}, labels"
      ],
      "execution_count": 65,
      "outputs": []
    },
    {
      "cell_type": "code",
      "metadata": {
        "id": "NhwcHy-yYmrU"
      },
      "source": [
        "data = data.map(map_func)"
      ],
      "execution_count": 66,
      "outputs": []
    },
    {
      "cell_type": "code",
      "metadata": {
        "id": "j5U5bbwpYqKy"
      },
      "source": [
        "\n",
        "data = data.shuffle(SHUFFLE).batch(BATCH_SIZE)"
      ],
      "execution_count": 67,
      "outputs": []
    },
    {
      "cell_type": "code",
      "metadata": {
        "colab": {
          "base_uri": "https://localhost:8080/"
        },
        "id": "UIHjEOnJYtt-",
        "outputId": "85a8f713-3194-4a11-c89f-06f7a1876899"
      },
      "source": [
        "SIZE = Xids.shape[0]/BATCH_SIZE\n",
        "SIZE"
      ],
      "execution_count": 68,
      "outputs": [
        {
          "output_type": "execute_result",
          "data": {
            "text/plain": [
              "250.0"
            ]
          },
          "metadata": {
            "tags": []
          },
          "execution_count": 68
        }
      ]
    },
    {
      "cell_type": "code",
      "metadata": {
        "id": "smBFr5_TYwAA"
      },
      "source": [
        "SPLIT = 0.9\n",
        "\n",
        "train = data.take(int(SIZE*SPLIT))\n",
        "val = data.skip(int(SIZE*SPLIT))\n",
        "\n",
        "del data"
      ],
      "execution_count": 69,
      "outputs": []
    },
    {
      "cell_type": "code",
      "metadata": {
        "id": "3VTPwPgsYx6_"
      },
      "source": [
        "from transformers import TFAutoModel"
      ],
      "execution_count": 70,
      "outputs": []
    },
    {
      "cell_type": "code",
      "metadata": {
        "colab": {
          "base_uri": "https://localhost:8080/",
          "height": 228,
          "referenced_widgets": [
            "dd2e5033e8f343848ee2365132e49463",
            "2219775df7ed47519408897be0b88fc7",
            "11d6a8318dd74d548e131074cabe56c5",
            "277fdc6405c542b484ee89f4d453e749",
            "5a3c0cc69380420ba8eeda84ba71ec24",
            "95909995fa6e4f43b519562724b9f8d0",
            "d8de96550111424592199a5eb27bad53",
            "b3218b8f293c497090657bda5dd1c7a2",
            "615f9322b8f64932aaf04a8712976526",
            "8c663b83e6bd4b8fbb5645a00e218c81",
            "acd7b0f45def4a73873331f64d74d460",
            "6a46398a71844766a16a65914950e9ca",
            "1f979ae4e878464b916ada24ebd8d3e4",
            "e04e5ab11848481eb1afb9987499018e",
            "3cd99c854d9c47368f12e10dc8f2991f",
            "d3640ca6c66d463fa2fadf8124fdd5c9"
          ]
        },
        "id": "hRpfXOeRY2xW",
        "outputId": "bb17c625-8eb0-43cc-ea56-2464d765a25a"
      },
      "source": [
        "bert = TFAutoModel.from_pretrained('bert-base-uncased')"
      ],
      "execution_count": 71,
      "outputs": [
        {
          "output_type": "display_data",
          "data": {
            "application/vnd.jupyter.widget-view+json": {
              "model_id": "dd2e5033e8f343848ee2365132e49463",
              "version_minor": 0,
              "version_major": 2
            },
            "text/plain": [
              "HBox(children=(FloatProgress(value=0.0, description='Downloading', max=570.0, style=ProgressStyle(description_…"
            ]
          },
          "metadata": {
            "tags": []
          }
        },
        {
          "output_type": "stream",
          "text": [
            "\n"
          ],
          "name": "stdout"
        },
        {
          "output_type": "display_data",
          "data": {
            "application/vnd.jupyter.widget-view+json": {
              "model_id": "615f9322b8f64932aaf04a8712976526",
              "version_minor": 0,
              "version_major": 2
            },
            "text/plain": [
              "HBox(children=(FloatProgress(value=0.0, description='Downloading', max=536063208.0, style=ProgressStyle(descri…"
            ]
          },
          "metadata": {
            "tags": []
          }
        },
        {
          "output_type": "stream",
          "text": [
            "\n"
          ],
          "name": "stdout"
        },
        {
          "output_type": "stream",
          "text": [
            "Some layers from the model checkpoint at bert-base-uncased were not used when initializing TFBertModel: ['mlm___cls', 'nsp___cls']\n",
            "- This IS expected if you are initializing TFBertModel from the checkpoint of a model trained on another task or with another architecture (e.g. initializing a BertForSequenceClassification model from a BertForPreTraining model).\n",
            "- This IS NOT expected if you are initializing TFBertModel from the checkpoint of a model that you expect to be exactly identical (initializing a BertForSequenceClassification model from a BertForSequenceClassification model).\n",
            "All the layers of TFBertModel were initialized from the model checkpoint at bert-base-uncased.\n",
            "If your task is similar to the task the model of the checkpoint was trained on, you can already use TFBertModel for predictions without further training.\n"
          ],
          "name": "stderr"
        }
      ]
    },
    {
      "cell_type": "code",
      "metadata": {
        "colab": {
          "base_uri": "https://localhost:8080/"
        },
        "id": "uQvGMIKkY6xV",
        "outputId": "a59b4331-fbfc-4d97-e30c-572aec9ccc5c"
      },
      "source": [
        "bert.summary()"
      ],
      "execution_count": 73,
      "outputs": [
        {
          "output_type": "stream",
          "text": [
            "Model: \"tf_bert_model\"\n",
            "_________________________________________________________________\n",
            "Layer (type)                 Output Shape              Param #   \n",
            "=================================================================\n",
            "bert (TFBertMainLayer)       multiple                  109482240 \n",
            "=================================================================\n",
            "Total params: 109,482,240\n",
            "Trainable params: 109,482,240\n",
            "Non-trainable params: 0\n",
            "_________________________________________________________________\n"
          ],
          "name": "stdout"
        }
      ]
    },
    {
      "cell_type": "code",
      "metadata": {
        "id": "OAg_VuB9Y_SS"
      },
      "source": [
        "#https://github.com/jamescalam/transformers/blob/main/course/project_build_tf_sentiment_model/sentiment.ipynb\n",
        "###https://djajafer.medium.com/multi-class-text-classification-with-keras-and-lstm-4c5525bef592\n",
        "\n",
        "input_ids = tf.keras.layers.Input(shape=(32,), name='input_ids', dtype='int32')\n",
        "mask = tf.keras.layers.Input(shape=(32,), name='attention_mask', dtype='int32')\n",
        "\n",
        "embeddings = bert.bert(input_ids, attention_mask=mask)[0]  # we access the transformer model within our bert object using the bert attribute (eg bert.bert instead of bert)\n",
        "\n",
        "x = tf.keras.layers.Dropout(0.4)(embeddings)\n",
        "x = tf.keras.layers.Bidirectional(tf.keras.layers.LSTM(768))(x)\n",
        "y = tf.keras.layers.Dense(2, activation='sigmoid', name='outputs')(x)\n",
        "\n",
        "model = tf.keras.Model(inputs=[input_ids, mask], outputs=y)\n",
        "\n",
        "model.layers[2].trainable = False"
      ],
      "execution_count": 76,
      "outputs": []
    },
    {
      "cell_type": "code",
      "metadata": {
        "colab": {
          "base_uri": "https://localhost:8080/"
        },
        "id": "Z9PgnlY1ZCHg",
        "outputId": "a1f22a36-aa67-4d70-9e59-9998ed87f364"
      },
      "source": [
        "model.summary()"
      ],
      "execution_count": 75,
      "outputs": [
        {
          "output_type": "stream",
          "text": [
            "Model: \"model\"\n",
            "__________________________________________________________________________________________________\n",
            "Layer (type)                    Output Shape         Param #     Connected to                     \n",
            "==================================================================================================\n",
            "input_ids (InputLayer)          [(None, 32)]         0                                            \n",
            "__________________________________________________________________________________________________\n",
            "attention_mask (InputLayer)     [(None, 32)]         0                                            \n",
            "__________________________________________________________________________________________________\n",
            "bert (TFBertMainLayer)          TFBaseModelOutputWit 109482240   input_ids[0][0]                  \n",
            "                                                                 attention_mask[0][0]             \n",
            "__________________________________________________________________________________________________\n",
            "dropout_37 (Dropout)            (None, 32, 768)      0           bert[0][0]                       \n",
            "__________________________________________________________________________________________________\n",
            "bidirectional (Bidirectional)   (None, 1536)         9443328     dropout_37[0][0]                 \n",
            "__________________________________________________________________________________________________\n",
            "outputs (Dense)                 (None, 2)            3074        bidirectional[0][0]              \n",
            "==================================================================================================\n",
            "Total params: 118,928,642\n",
            "Trainable params: 9,446,402\n",
            "Non-trainable params: 109,482,240\n",
            "__________________________________________________________________________________________________\n"
          ],
          "name": "stdout"
        }
      ]
    },
    {
      "cell_type": "code",
      "metadata": {
        "id": "hvu5ovViZbN-"
      },
      "source": [
        "optimizer = tf.keras.optimizers.Adam(lr=0.001, decay=1e-6)\n",
        "loss = tf.keras.losses.CategoricalCrossentropy()\n",
        "acc = tf.keras.metrics.CategoricalAccuracy('accuracy')\n",
        "\n",
        "model.compile(optimizer=optimizer, loss=loss, metrics=[acc])"
      ],
      "execution_count": 77,
      "outputs": []
    },
    {
      "cell_type": "code",
      "metadata": {
        "colab": {
          "base_uri": "https://localhost:8080/"
        },
        "id": "DPp18IOcZdYN",
        "outputId": "a973d67f-73b8-444f-b6b2-8dfa26224dd7"
      },
      "source": [
        "history = model.fit(\n",
        "    train,\n",
        "    validation_data=val,\n",
        "    epochs=10)"
      ],
      "execution_count": 78,
      "outputs": [
        {
          "output_type": "stream",
          "text": [
            "Epoch 1/10\n",
            "225/225 [==============================] - 35s 85ms/step - loss: 0.6034 - accuracy: 0.6939 - val_loss: 0.5075 - val_accuracy: 0.7275\n",
            "Epoch 2/10\n",
            "225/225 [==============================] - 16s 73ms/step - loss: 0.5055 - accuracy: 0.7519 - val_loss: 0.3893 - val_accuracy: 0.8275\n",
            "Epoch 3/10\n",
            "225/225 [==============================] - 17s 73ms/step - loss: 0.4575 - accuracy: 0.7825 - val_loss: 0.3968 - val_accuracy: 0.8250\n",
            "Epoch 4/10\n",
            "225/225 [==============================] - 17s 74ms/step - loss: 0.4238 - accuracy: 0.8044 - val_loss: 0.3115 - val_accuracy: 0.8525\n",
            "Epoch 5/10\n",
            "225/225 [==============================] - 17s 74ms/step - loss: 0.4074 - accuracy: 0.8211 - val_loss: 0.3522 - val_accuracy: 0.8575\n",
            "Epoch 6/10\n",
            "225/225 [==============================] - 17s 75ms/step - loss: 0.3802 - accuracy: 0.8278 - val_loss: 0.2763 - val_accuracy: 0.8800\n",
            "Epoch 7/10\n",
            "225/225 [==============================] - 17s 74ms/step - loss: 0.3402 - accuracy: 0.8506 - val_loss: 0.2583 - val_accuracy: 0.8875\n",
            "Epoch 8/10\n",
            "225/225 [==============================] - 17s 74ms/step - loss: 0.3219 - accuracy: 0.8581 - val_loss: 0.1762 - val_accuracy: 0.9375\n",
            "Epoch 9/10\n",
            "225/225 [==============================] - 17s 74ms/step - loss: 0.2996 - accuracy: 0.8728 - val_loss: 0.1681 - val_accuracy: 0.9275\n",
            "Epoch 10/10\n",
            "225/225 [==============================] - 17s 74ms/step - loss: 0.2810 - accuracy: 0.8761 - val_loss: 0.1435 - val_accuracy: 0.9575\n"
          ],
          "name": "stdout"
        }
      ]
    },
    {
      "cell_type": "code",
      "metadata": {
        "id": "CQvSja4EZ4aM"
      },
      "source": [
        "#model.get_config()"
      ],
      "execution_count": 115,
      "outputs": []
    },
    {
      "cell_type": "code",
      "metadata": {
        "colab": {
          "base_uri": "https://localhost:8080/"
        },
        "id": "rv9AVFHwZ7MG",
        "outputId": "ad2c49a8-74c5-4425-a2e2-04130bbc7509"
      },
      "source": [
        "model.save('sentiment_model')"
      ],
      "execution_count": 79,
      "outputs": [
        {
          "output_type": "stream",
          "text": [
            "WARNING:absl:Found untraced functions such as embeddings_layer_call_and_return_conditional_losses, embeddings_layer_call_fn, encoder_layer_call_and_return_conditional_losses, encoder_layer_call_fn, pooler_layer_call_and_return_conditional_losses while saving (showing 5 of 1065). These functions will not be directly callable after loading.\n"
          ],
          "name": "stderr"
        },
        {
          "output_type": "stream",
          "text": [
            "INFO:tensorflow:Assets written to: sentiment_model/assets\n"
          ],
          "name": "stdout"
        },
        {
          "output_type": "stream",
          "text": [
            "INFO:tensorflow:Assets written to: sentiment_model/assets\n"
          ],
          "name": "stderr"
        }
      ]
    },
    {
      "cell_type": "code",
      "metadata": {
        "id": "B4-aVazsaeSD"
      },
      "source": [
        "bert_history=pd.DataFrame(history.history)"
      ],
      "execution_count": 80,
      "outputs": []
    },
    {
      "cell_type": "code",
      "metadata": {
        "colab": {
          "base_uri": "https://localhost:8080/",
          "height": 348
        },
        "id": "r6_jaFuua1da",
        "outputId": "eaa77b30-97d3-4e72-bbe0-8458d1d699c5"
      },
      "source": [
        "bert_history"
      ],
      "execution_count": 81,
      "outputs": [
        {
          "output_type": "execute_result",
          "data": {
            "text/html": [
              "<div>\n",
              "<style scoped>\n",
              "    .dataframe tbody tr th:only-of-type {\n",
              "        vertical-align: middle;\n",
              "    }\n",
              "\n",
              "    .dataframe tbody tr th {\n",
              "        vertical-align: top;\n",
              "    }\n",
              "\n",
              "    .dataframe thead th {\n",
              "        text-align: right;\n",
              "    }\n",
              "</style>\n",
              "<table border=\"1\" class=\"dataframe\">\n",
              "  <thead>\n",
              "    <tr style=\"text-align: right;\">\n",
              "      <th></th>\n",
              "      <th>loss</th>\n",
              "      <th>accuracy</th>\n",
              "      <th>val_loss</th>\n",
              "      <th>val_accuracy</th>\n",
              "    </tr>\n",
              "  </thead>\n",
              "  <tbody>\n",
              "    <tr>\n",
              "      <th>0</th>\n",
              "      <td>0.603385</td>\n",
              "      <td>0.693889</td>\n",
              "      <td>0.507507</td>\n",
              "      <td>0.7275</td>\n",
              "    </tr>\n",
              "    <tr>\n",
              "      <th>1</th>\n",
              "      <td>0.505473</td>\n",
              "      <td>0.751944</td>\n",
              "      <td>0.389264</td>\n",
              "      <td>0.8275</td>\n",
              "    </tr>\n",
              "    <tr>\n",
              "      <th>2</th>\n",
              "      <td>0.457467</td>\n",
              "      <td>0.782500</td>\n",
              "      <td>0.396833</td>\n",
              "      <td>0.8250</td>\n",
              "    </tr>\n",
              "    <tr>\n",
              "      <th>3</th>\n",
              "      <td>0.423770</td>\n",
              "      <td>0.804444</td>\n",
              "      <td>0.311460</td>\n",
              "      <td>0.8525</td>\n",
              "    </tr>\n",
              "    <tr>\n",
              "      <th>4</th>\n",
              "      <td>0.407440</td>\n",
              "      <td>0.821111</td>\n",
              "      <td>0.352169</td>\n",
              "      <td>0.8575</td>\n",
              "    </tr>\n",
              "    <tr>\n",
              "      <th>5</th>\n",
              "      <td>0.380186</td>\n",
              "      <td>0.827778</td>\n",
              "      <td>0.276313</td>\n",
              "      <td>0.8800</td>\n",
              "    </tr>\n",
              "    <tr>\n",
              "      <th>6</th>\n",
              "      <td>0.340154</td>\n",
              "      <td>0.850556</td>\n",
              "      <td>0.258340</td>\n",
              "      <td>0.8875</td>\n",
              "    </tr>\n",
              "    <tr>\n",
              "      <th>7</th>\n",
              "      <td>0.321867</td>\n",
              "      <td>0.858056</td>\n",
              "      <td>0.176185</td>\n",
              "      <td>0.9375</td>\n",
              "    </tr>\n",
              "    <tr>\n",
              "      <th>8</th>\n",
              "      <td>0.299644</td>\n",
              "      <td>0.872778</td>\n",
              "      <td>0.168115</td>\n",
              "      <td>0.9275</td>\n",
              "    </tr>\n",
              "    <tr>\n",
              "      <th>9</th>\n",
              "      <td>0.280973</td>\n",
              "      <td>0.876111</td>\n",
              "      <td>0.143452</td>\n",
              "      <td>0.9575</td>\n",
              "    </tr>\n",
              "  </tbody>\n",
              "</table>\n",
              "</div>"
            ],
            "text/plain": [
              "       loss  accuracy  val_loss  val_accuracy\n",
              "0  0.603385  0.693889  0.507507        0.7275\n",
              "1  0.505473  0.751944  0.389264        0.8275\n",
              "2  0.457467  0.782500  0.396833        0.8250\n",
              "3  0.423770  0.804444  0.311460        0.8525\n",
              "4  0.407440  0.821111  0.352169        0.8575\n",
              "5  0.380186  0.827778  0.276313        0.8800\n",
              "6  0.340154  0.850556  0.258340        0.8875\n",
              "7  0.321867  0.858056  0.176185        0.9375\n",
              "8  0.299644  0.872778  0.168115        0.9275\n",
              "9  0.280973  0.876111  0.143452        0.9575"
            ]
          },
          "metadata": {
            "tags": []
          },
          "execution_count": 81
        }
      ]
    },
    {
      "cell_type": "code",
      "metadata": {
        "colab": {
          "base_uri": "https://localhost:8080/"
        },
        "id": "qKsidY3BbWjp",
        "outputId": "1953f0f6-046a-4a2e-989e-f6cc185a81f8"
      },
      "source": [
        "bert_history.columns"
      ],
      "execution_count": 82,
      "outputs": [
        {
          "output_type": "execute_result",
          "data": {
            "text/plain": [
              "Index(['loss', 'accuracy', 'val_loss', 'val_accuracy'], dtype='object')"
            ]
          },
          "metadata": {
            "tags": []
          },
          "execution_count": 82
        }
      ]
    },
    {
      "cell_type": "code",
      "metadata": {
        "id": "YK-sNT8za6tr"
      },
      "source": [
        "bert_history=bert_history[['accuracy', 'val_accuracy']]"
      ],
      "execution_count": 83,
      "outputs": []
    },
    {
      "cell_type": "code",
      "metadata": {
        "id": "rwlwGy34atXT"
      },
      "source": [
        "import matplotlib.pyplot as plt\n",
        "import seaborn as sns"
      ],
      "execution_count": 84,
      "outputs": []
    },
    {
      "cell_type": "code",
      "metadata": {
        "colab": {
          "base_uri": "https://localhost:8080/",
          "height": 542
        },
        "id": "HR7-JY0JamiV",
        "outputId": "c22ae3ec-3a18-4ff1-de33-185ed10eafd6"
      },
      "source": [
        "plt.figure()\n",
        "ax=bert_history.plot(figsize=(10, 8))\n",
        "ax.set_ylabel('ACC_SCORE',fontsize=15)\n",
        "ax.set_xlabel('no_of_eopch',fontsize=15)\n",
        "ax.set_title('bert_model NUMBER OF EPOCH VS Acc_SCORE',fontsize=20)\n",
        "plt.grid()"
      ],
      "execution_count": 85,
      "outputs": [
        {
          "output_type": "display_data",
          "data": {
            "text/plain": [
              "<Figure size 432x288 with 0 Axes>"
            ]
          },
          "metadata": {
            "tags": []
          }
        },
        {
          "output_type": "display_data",
          "data": {
            "image/png": "[encoded data removed]",
            "text/plain": [
              "<Figure size 720x576 with 1 Axes>"
            ]
          },
          "metadata": {
            "tags": [],
            "needs_background": "light"
          }
        }
      ]
    },
    {
      "cell_type": "code",
      "metadata": {
        "colab": {
          "base_uri": "https://localhost:8080/"
        },
        "id": "oZEDEWDZc_ML",
        "outputId": "8458e06d-e8ae-48e3-b042-72d78b36dda6"
      },
      "source": [
        "loss, acc = model.evaluate(val)\n"
      ],
      "execution_count": 86,
      "outputs": [
        {
          "output_type": "stream",
          "text": [
            "25/25 [==============================] - 2s 59ms/step - loss: 0.1513 - accuracy: 0.9550\n"
          ],
          "name": "stdout"
        }
      ]
    },
    {
      "cell_type": "code",
      "metadata": {
        "colab": {
          "base_uri": "https://localhost:8080/"
        },
        "id": "Aq6rA0VWCVtO",
        "outputId": "50d9a143-a009-47f5-ada4-5943fab0ffe8"
      },
      "source": [
        "print(\"=\"*80)\n",
        "print(\"Loss for bert with custom layer on validation dataset: \",loss)\n",
        "print(\"-\"*80)\n",
        "print(\"Accuracy for bert with custom layer on validation dataset: \",acc)\n",
        "print(\"=\"*80)"
      ],
      "execution_count": 87,
      "outputs": [
        {
          "output_type": "stream",
          "text": [
            "================================================================================\n",
            "Loss for bert with custom layer on validation dataset:  0.15132656693458557\n",
            "--------------------------------------------------------------------------------\n",
            "Accuracy for bert with custom layer on validation dataset:  0.9549999833106995\n",
            "================================================================================\n"
          ],
          "name": "stdout"
        }
      ]
    },
    {
      "cell_type": "code",
      "metadata": {
        "id": "2byCg76PdP_b"
      },
      "source": [
        "y_pred_bert=model.predict(val)"
      ],
      "execution_count": 88,
      "outputs": []
    },
    {
      "cell_type": "code",
      "metadata": {
        "colab": {
          "base_uri": "https://localhost:8080/"
        },
        "id": "lVIENYYJDjUs",
        "outputId": "2b4a685b-24d7-4663-f749-18e147da6788"
      },
      "source": [
        "y_pred_bert"
      ],
      "execution_count": 89,
      "outputs": [
        {
          "output_type": "execute_result",
          "data": {
            "text/plain": [
              "array([[0.7650407 , 0.24623893],\n",
              "       [0.92432916, 0.06431764],\n",
              "       [0.51262194, 0.49369907],\n",
              "       [0.98492277, 0.0140958 ],\n",
              "       [0.8146161 , 0.18357316],\n",
              "       [0.83063865, 0.1764851 ],\n",
              "       [0.8400093 , 0.13721034],\n",
              "       [0.9135893 , 0.08965964],\n",
              "       [0.23216814, 0.8013962 ],\n",
              "       [0.11939523, 0.8850974 ],\n",
              "       [0.05482151, 0.9524249 ],\n",
              "       [0.99528617, 0.00400707],\n",
              "       [0.15560135, 0.8590332 ],\n",
              "       [0.7778054 , 0.24882995],\n",
              "       [0.13309562, 0.8493951 ],\n",
              "       [0.91736704, 0.06588376],\n",
              "       [0.38887608, 0.6436251 ],\n",
              "       [0.5154037 , 0.5014468 ],\n",
              "       [0.8485856 , 0.13838121],\n",
              "       [0.05371962, 0.95102096],\n",
              "       [0.39281127, 0.60989565],\n",
              "       [0.02700846, 0.97631925],\n",
              "       [0.79318327, 0.21861748],\n",
              "       [0.401588  , 0.6081605 ],\n",
              "       [0.21381162, 0.85125005],\n",
              "       [0.8047562 , 0.18984742],\n",
              "       [0.7088698 , 0.296566  ],\n",
              "       [0.6736391 , 0.3414824 ],\n",
              "       [0.1462759 , 0.8602969 ],\n",
              "       [0.01797369, 0.9842402 ],\n",
              "       [0.9678684 , 0.02156407],\n",
              "       [0.8275807 , 0.17352867],\n",
              "       [0.3777498 , 0.6682242 ],\n",
              "       [0.5896356 , 0.40565154],\n",
              "       [0.05555159, 0.95443594],\n",
              "       [0.5618334 , 0.457282  ],\n",
              "       [0.97583747, 0.01925741],\n",
              "       [0.9403625 , 0.05171554],\n",
              "       [0.05233572, 0.9509472 ],\n",
              "       [0.34637642, 0.6820019 ],\n",
              "       [0.23449063, 0.7653252 ],\n",
              "       [0.98478335, 0.01480221],\n",
              "       [0.71125686, 0.3056974 ],\n",
              "       [0.56537485, 0.46037975],\n",
              "       [0.88851905, 0.11851618],\n",
              "       [0.79817003, 0.1951423 ],\n",
              "       [0.69667375, 0.31742036],\n",
              "       [0.79104275, 0.23770674],\n",
              "       [0.7815557 , 0.21018286],\n",
              "       [0.7737174 , 0.23881832],\n",
              "       [0.90719736, 0.09661085],\n",
              "       [0.84608954, 0.14819066],\n",
              "       [0.8025592 , 0.19506653],\n",
              "       [0.4522691 , 0.5772072 ],\n",
              "       [0.649832  , 0.30129826],\n",
              "       [0.87408274, 0.11834619],\n",
              "       [0.8790565 , 0.13400213],\n",
              "       [0.8996551 , 0.10043985],\n",
              "       [0.03783804, 0.95989645],\n",
              "       [0.8365234 , 0.15657069],\n",
              "       [0.8572706 , 0.16460904],\n",
              "       [0.6947178 , 0.2987237 ],\n",
              "       [0.12635499, 0.8803673 ],\n",
              "       [0.8787696 , 0.09805135],\n",
              "       [0.2877696 , 0.771953  ],\n",
              "       [0.43231368, 0.5453173 ],\n",
              "       [0.9455541 , 0.05199915],\n",
              "       [0.759177  , 0.23217577],\n",
              "       [0.12552285, 0.87466794],\n",
              "       [0.13467675, 0.88204527],\n",
              "       [0.1914657 , 0.7799858 ],\n",
              "       [0.2943981 , 0.7016054 ],\n",
              "       [0.6182181 , 0.3599739 ],\n",
              "       [0.61520964, 0.4359666 ],\n",
              "       [0.935083  , 0.07492429],\n",
              "       [0.9587352 , 0.04855486],\n",
              "       [0.47346646, 0.5438297 ],\n",
              "       [0.01367264, 0.9866454 ],\n",
              "       [0.85975456, 0.15007538],\n",
              "       [0.06457859, 0.9386704 ],\n",
              "       [0.9292161 , 0.0655732 ],\n",
              "       [0.8822595 , 0.11304163],\n",
              "       [0.03179526, 0.97456557],\n",
              "       [0.42990857, 0.60415024],\n",
              "       [0.86258   , 0.12785174],\n",
              "       [0.8016189 , 0.22124685],\n",
              "       [0.85105115, 0.13653018],\n",
              "       [0.02604482, 0.9797406 ],\n",
              "       [0.95994246, 0.03592074],\n",
              "       [0.49465892, 0.5575798 ],\n",
              "       [0.2273036 , 0.8060043 ],\n",
              "       [0.09886293, 0.9085649 ],\n",
              "       [0.17479438, 0.8442523 ],\n",
              "       [0.6529692 , 0.3476569 ],\n",
              "       [0.9112334 , 0.0790232 ],\n",
              "       [0.8943789 , 0.09876061],\n",
              "       [0.8802665 , 0.12847123],\n",
              "       [0.39578685, 0.5908036 ],\n",
              "       [0.0471817 , 0.95533603],\n",
              "       [0.10827845, 0.9097788 ],\n",
              "       [0.18657091, 0.8319908 ],\n",
              "       [0.9148352 , 0.08664905],\n",
              "       [0.8864229 , 0.10032611],\n",
              "       [0.77230906, 0.24054018],\n",
              "       [0.8408335 , 0.1409256 ],\n",
              "       [0.03599634, 0.962519  ],\n",
              "       [0.82901335, 0.16575132],\n",
              "       [0.97883874, 0.02152986],\n",
              "       [0.683092  , 0.32992503],\n",
              "       [0.9739386 , 0.02707609],\n",
              "       [0.9420711 , 0.05307266],\n",
              "       [0.32101494, 0.7181994 ],\n",
              "       [0.8878417 , 0.08663587],\n",
              "       [0.97325087, 0.02110016],\n",
              "       [0.62200534, 0.37487325],\n",
              "       [0.04208257, 0.95636487],\n",
              "       [0.05935514, 0.9295129 ],\n",
              "       [0.96286476, 0.0297906 ],\n",
              "       [0.8822235 , 0.10058393],\n",
              "       [0.594772  , 0.41843328],\n",
              "       [0.04533897, 0.956421  ],\n",
              "       [0.7611653 , 0.2798786 ],\n",
              "       [0.44726983, 0.5431052 ],\n",
              "       [0.40795416, 0.59679425],\n",
              "       [0.7805996 , 0.21575926],\n",
              "       [0.951111  , 0.03064248],\n",
              "       [0.14189465, 0.9022598 ],\n",
              "       [0.83594877, 0.1407968 ],\n",
              "       [0.8806171 , 0.11674279],\n",
              "       [0.07345834, 0.91880876],\n",
              "       [0.65299827, 0.34331554],\n",
              "       [0.02151817, 0.9839807 ],\n",
              "       [0.9458283 , 0.04509468],\n",
              "       [0.96169645, 0.0260521 ],\n",
              "       [0.9382187 , 0.0597302 ],\n",
              "       [0.67837155, 0.3254308 ],\n",
              "       [0.2600372 , 0.7579326 ],\n",
              "       [0.03732865, 0.9702948 ],\n",
              "       [0.68435884, 0.31209412],\n",
              "       [0.6791004 , 0.30291674],\n",
              "       [0.11278842, 0.88662076],\n",
              "       [0.9562069 , 0.05069791],\n",
              "       [0.94866616, 0.03685803],\n",
              "       [0.9142549 , 0.08654227],\n",
              "       [0.76168156, 0.21113549],\n",
              "       [0.56621957, 0.43347928],\n",
              "       [0.88829964, 0.13154814],\n",
              "       [0.8747345 , 0.14229867],\n",
              "       [0.9112917 , 0.08559506],\n",
              "       [0.9494142 , 0.04601301],\n",
              "       [0.37733945, 0.70819193],\n",
              "       [0.9740147 , 0.01823865],\n",
              "       [0.03622059, 0.96764505],\n",
              "       [0.01999805, 0.98511964],\n",
              "       [0.17507951, 0.8219677 ],\n",
              "       [0.05477708, 0.9552316 ],\n",
              "       [0.8422135 , 0.15319507],\n",
              "       [0.8784568 , 0.1152043 ],\n",
              "       [0.04982658, 0.9497285 ],\n",
              "       [0.9199083 , 0.08295809],\n",
              "       [0.9509385 , 0.04120773],\n",
              "       [0.67838967, 0.34081322],\n",
              "       [0.35090697, 0.6472172 ],\n",
              "       [0.02433428, 0.97667354],\n",
              "       [0.5850387 , 0.4256845 ],\n",
              "       [0.12656738, 0.8778634 ],\n",
              "       [0.23895988, 0.7964703 ],\n",
              "       [0.00494485, 0.99521315],\n",
              "       [0.33650345, 0.7086986 ],\n",
              "       [0.9261694 , 0.07744768],\n",
              "       [0.4044082 , 0.624805  ],\n",
              "       [0.0346256 , 0.96416926],\n",
              "       [0.8549915 , 0.11769372],\n",
              "       [0.10520317, 0.89469737],\n",
              "       [0.46101356, 0.5499231 ],\n",
              "       [0.12733465, 0.88757986],\n",
              "       [0.78821987, 0.17952015],\n",
              "       [0.86466116, 0.1493624 ],\n",
              "       [0.92625827, 0.05730275],\n",
              "       [0.04190749, 0.96087414],\n",
              "       [0.28269053, 0.70657426],\n",
              "       [0.9494578 , 0.04041305],\n",
              "       [0.17669125, 0.8148528 ],\n",
              "       [0.17443788, 0.83254313],\n",
              "       [0.06942306, 0.9339896 ],\n",
              "       [0.8598452 , 0.14421122],\n",
              "       [0.9670866 , 0.0286115 ],\n",
              "       [0.9345756 , 0.0633605 ],\n",
              "       [0.68463975, 0.31571648],\n",
              "       [0.18777868, 0.8225376 ],\n",
              "       [0.84005   , 0.12912825],\n",
              "       [0.6920483 , 0.3238963 ],\n",
              "       [0.79365623, 0.19855693],\n",
              "       [0.20268534, 0.83054537],\n",
              "       [0.76850957, 0.23326524],\n",
              "       [0.5817024 , 0.46386558],\n",
              "       [0.5811771 , 0.4156102 ],\n",
              "       [0.19286188, 0.8417197 ],\n",
              "       [0.80107874, 0.2284326 ],\n",
              "       [0.1273525 , 0.86123306],\n",
              "       [0.8342445 , 0.16459   ],\n",
              "       [0.06357314, 0.95094824],\n",
              "       [0.18056025, 0.8252155 ],\n",
              "       [0.27991676, 0.77184016],\n",
              "       [0.27316144, 0.7168839 ],\n",
              "       [0.85223716, 0.14240335],\n",
              "       [0.9062488 , 0.10216863],\n",
              "       [0.2229336 , 0.7844983 ],\n",
              "       [0.9158745 , 0.08678564],\n",
              "       [0.23830977, 0.78072375],\n",
              "       [0.8464908 , 0.13955563],\n",
              "       [0.87893236, 0.11468796],\n",
              "       [0.01110841, 0.98958886],\n",
              "       [0.03938952, 0.9559118 ],\n",
              "       [0.8581222 , 0.13570592],\n",
              "       [0.0541832 , 0.94874567],\n",
              "       [0.81283134, 0.17389953],\n",
              "       [0.8949066 , 0.09017291],\n",
              "       [0.8108875 , 0.20288825],\n",
              "       [0.91522527, 0.07046979],\n",
              "       [0.88143444, 0.11356947],\n",
              "       [0.9063021 , 0.09261901],\n",
              "       [0.64739674, 0.36452556],\n",
              "       [0.87621856, 0.11411465],\n",
              "       [0.18013048, 0.81441754],\n",
              "       [0.57065386, 0.4127873 ],\n",
              "       [0.70355874, 0.29839525],\n",
              "       [0.90054595, 0.09635294],\n",
              "       [0.32740372, 0.6830043 ],\n",
              "       [0.08505999, 0.9360232 ],\n",
              "       [0.7087494 , 0.26976693],\n",
              "       [0.9377375 , 0.05367745],\n",
              "       [0.95546216, 0.03691795],\n",
              "       [0.3733697 , 0.6644665 ],\n",
              "       [0.95941997, 0.03860882],\n",
              "       [0.30261707, 0.70782644],\n",
              "       [0.9566263 , 0.04213511],\n",
              "       [0.96875674, 0.02431221],\n",
              "       [0.22274779, 0.81342965],\n",
              "       [0.11756162, 0.8745048 ],\n",
              "       [0.43142563, 0.54952705],\n",
              "       [0.07124443, 0.9278824 ],\n",
              "       [0.7412762 , 0.31011128],\n",
              "       [0.48834598, 0.5244107 ],\n",
              "       [0.8914629 , 0.13302515],\n",
              "       [0.12308285, 0.9150808 ],\n",
              "       [0.8016041 , 0.18015228],\n",
              "       [0.8972735 , 0.09390878],\n",
              "       [0.24433099, 0.7852936 ],\n",
              "       [0.03249352, 0.9597584 ],\n",
              "       [0.8876925 , 0.12295759],\n",
              "       [0.94146484, 0.04969551],\n",
              "       [0.5944806 , 0.36999324],\n",
              "       [0.5808525 , 0.39912257],\n",
              "       [0.97335887, 0.03297868],\n",
              "       [0.06561223, 0.93232054],\n",
              "       [0.9349697 , 0.06305697],\n",
              "       [0.7658375 , 0.20169772],\n",
              "       [0.04568463, 0.9542738 ],\n",
              "       [0.9657686 , 0.03078546],\n",
              "       [0.49242145, 0.491311  ],\n",
              "       [0.8411732 , 0.17846487],\n",
              "       [0.16953419, 0.84152526],\n",
              "       [0.7954176 , 0.17917046],\n",
              "       [0.25196669, 0.7321755 ],\n",
              "       [0.15395351, 0.8296793 ],\n",
              "       [0.94529444, 0.04459129],\n",
              "       [0.46841624, 0.54928637],\n",
              "       [0.76256955, 0.2214887 ],\n",
              "       [0.85581756, 0.14014828],\n",
              "       [0.8210714 , 0.18664171],\n",
              "       [0.7573743 , 0.20587364],\n",
              "       [0.0581205 , 0.940559  ],\n",
              "       [0.47154742, 0.5833208 ],\n",
              "       [0.8615699 , 0.14260025],\n",
              "       [0.04839763, 0.94877917],\n",
              "       [0.9492541 , 0.04213212],\n",
              "       [0.48079988, 0.54322845],\n",
              "       [0.8568566 , 0.14323874],\n",
              "       [0.63422966, 0.37473693],\n",
              "       [0.741868  , 0.25843796],\n",
              "       [0.8930773 , 0.09537256],\n",
              "       [0.8896991 , 0.11532307],\n",
              "       [0.04504886, 0.96128803],\n",
              "       [0.2322323 , 0.79369164],\n",
              "       [0.42205313, 0.58087707],\n",
              "       [0.7045871 , 0.2824055 ],\n",
              "       [0.01079319, 0.98875195],\n",
              "       [0.90697163, 0.08259738],\n",
              "       [0.9740863 , 0.02198802],\n",
              "       [0.9809265 , 0.01753129],\n",
              "       [0.9713226 , 0.02489395],\n",
              "       [0.03530937, 0.9694957 ],\n",
              "       [0.0969406 , 0.90885776],\n",
              "       [0.12067299, 0.8973567 ],\n",
              "       [0.9397918 , 0.0760613 ],\n",
              "       [0.77675176, 0.19916372],\n",
              "       [0.81686085, 0.20990668],\n",
              "       [0.7344585 , 0.29061326],\n",
              "       [0.57299775, 0.45850563],\n",
              "       [0.89073026, 0.10129751],\n",
              "       [0.11958081, 0.8830281 ],\n",
              "       [0.16478212, 0.86453694],\n",
              "       [0.3393124 , 0.681469  ],\n",
              "       [0.03747626, 0.9666663 ],\n",
              "       [0.0433375 , 0.95616233],\n",
              "       [0.99571663, 0.00417528],\n",
              "       [0.68060446, 0.32006347],\n",
              "       [0.8993723 , 0.1063309 ],\n",
              "       [0.09571581, 0.9202261 ],\n",
              "       [0.83599067, 0.17056885],\n",
              "       [0.9653755 , 0.0333112 ],\n",
              "       [0.5533799 , 0.47180066],\n",
              "       [0.05102779, 0.9498153 ],\n",
              "       [0.90881985, 0.0805679 ],\n",
              "       [0.896475  , 0.07150786],\n",
              "       [0.9181321 , 0.07253325],\n",
              "       [0.2406723 , 0.76683617],\n",
              "       [0.83042806, 0.1576324 ],\n",
              "       [0.9096282 , 0.09553144],\n",
              "       [0.13807636, 0.859513  ],\n",
              "       [0.05756701, 0.9581698 ],\n",
              "       [0.03106641, 0.96953034],\n",
              "       [0.9073887 , 0.08965275],\n",
              "       [0.92105514, 0.07497654],\n",
              "       [0.071637  , 0.9312099 ],\n",
              "       [0.81539315, 0.1975575 ],\n",
              "       [0.87162274, 0.1254861 ],\n",
              "       [0.8234768 , 0.19006634],\n",
              "       [0.38323948, 0.6175815 ],\n",
              "       [0.2606542 , 0.7712956 ],\n",
              "       [0.858051  , 0.15660626],\n",
              "       [0.8455116 , 0.14437334],\n",
              "       [0.651538  , 0.37468332],\n",
              "       [0.02963838, 0.96864176],\n",
              "       [0.834982  , 0.16739604],\n",
              "       [0.66166234, 0.34004167],\n",
              "       [0.83816004, 0.16485114],\n",
              "       [0.7241841 , 0.2873201 ],\n",
              "       [0.18266474, 0.8063754 ],\n",
              "       [0.5138329 , 0.47267807],\n",
              "       [0.02178912, 0.98411155],\n",
              "       [0.13445453, 0.86758524],\n",
              "       [0.93057245, 0.05763594],\n",
              "       [0.89908177, 0.09736902],\n",
              "       [0.66676825, 0.3262135 ],\n",
              "       [0.02738212, 0.9622305 ],\n",
              "       [0.8896991 , 0.11532307],\n",
              "       [0.3983674 , 0.6259249 ],\n",
              "       [0.86161655, 0.12240306],\n",
              "       [0.5626639 , 0.47042218],\n",
              "       [0.822103  , 0.18020755],\n",
              "       [0.04061909, 0.9722792 ],\n",
              "       [0.19543119, 0.8118129 ],\n",
              "       [0.47512698, 0.54047006],\n",
              "       [0.00805889, 0.9932995 ],\n",
              "       [0.7866412 , 0.20295973],\n",
              "       [0.20056678, 0.82704854],\n",
              "       [0.87437594, 0.1001777 ],\n",
              "       [0.8818632 , 0.11882757],\n",
              "       [0.7081389 , 0.26485482],\n",
              "       [0.46537244, 0.5489661 ],\n",
              "       [0.2582027 , 0.7603993 ],\n",
              "       [0.7473451 , 0.2467645 ],\n",
              "       [0.97131675, 0.03331002],\n",
              "       [0.6665758 , 0.32007456],\n",
              "       [0.14829898, 0.8621253 ],\n",
              "       [0.26775876, 0.7308045 ],\n",
              "       [0.8166616 , 0.20720364],\n",
              "       [0.30381304, 0.710075  ],\n",
              "       [0.89469427, 0.11163481],\n",
              "       [0.7725748 , 0.21152769],\n",
              "       [0.25153285, 0.7620607 ],\n",
              "       [0.16031058, 0.84458333],\n",
              "       [0.73728335, 0.22607255],\n",
              "       [0.48952648, 0.52090794],\n",
              "       [0.21502829, 0.76743746],\n",
              "       [0.99280256, 0.00678121],\n",
              "       [0.84676504, 0.14598256],\n",
              "       [0.83226615, 0.16476631],\n",
              "       [0.8850748 , 0.1082662 ],\n",
              "       [0.86195207, 0.11685618],\n",
              "       [0.92041004, 0.09546535],\n",
              "       [0.72361165, 0.28786385],\n",
              "       [0.6957377 , 0.31413618],\n",
              "       [0.9411465 , 0.06352758],\n",
              "       [0.8870282 , 0.10823865],\n",
              "       [0.92130476, 0.07684605],\n",
              "       [0.80221665, 0.18534677],\n",
              "       [0.32759365, 0.71104664],\n",
              "       [0.00732813, 0.9911209 ],\n",
              "       [0.02143922, 0.98181814],\n",
              "       [0.11199286, 0.91612864],\n",
              "       [0.93912077, 0.06112399],\n",
              "       [0.6503025 , 0.33355522],\n",
              "       [0.9417056 , 0.04935639],\n",
              "       [0.9743412 , 0.0274731 ],\n",
              "       [0.8802683 , 0.12853782],\n",
              "       [0.9693667 , 0.02328494],\n",
              "       [0.89616746, 0.11014521]], dtype=float32)"
            ]
          },
          "metadata": {
            "tags": []
          },
          "execution_count": 89
        }
      ]
    },
    {
      "cell_type": "code",
      "metadata": {
        "id": "1SjuzHirInvq"
      },
      "source": [
        ""
      ],
      "execution_count": 19,
      "outputs": []
    },
    {
      "cell_type": "code",
      "metadata": {
        "colab": {
          "base_uri": "https://localhost:8080/"
        },
        "id": "s7Ua9hh2cNHx",
        "outputId": "eed12f92-6aa8-46f7-8542-7bfdda13841d"
      },
      "source": [
        "from prettytable import PrettyTable\n",
        "    \n",
        "x = PrettyTable()\n",
        "x.field_names = [\"Sr No\" ,\"Problem type \", \"Model\", \"Test Accuracy\"]\n",
        "x.add_row([\"1\",\"Unsupervised /Clustering \", \"KMeans\", '---'])\n",
        "x.add_row([\"2\", \"Converted into Binary classification\\n using TextBlob \", \n",
        "           \"Naive Bayes\", '0.8548'])\n",
        "x.add_row([\"3\", \"Converted into Binary classification\\n using TextBlob \", \n",
        "           \"Bert(pretrained hugging face)\\n With Custom layers 4000 Datapoints \", \n",
        "           '0.9549'])\n",
        "\n",
        "print(x)"
      ],
      "execution_count": 18,
      "outputs": [
        {
          "output_type": "stream",
          "text": [
            "+-------+--------------------------------------+--------------------------------------+---------------+\n",
            "| Sr No |            Problem type              |                Model                 | Test Accuracy |\n",
            "+-------+--------------------------------------+--------------------------------------+---------------+\n",
            "|   1   |      Unsupervised /Clustering        |                KMeans                |      ---      |\n",
            "|   2   | Converted into Binary classification |             Naive Bayes              |     0.8548    |\n",
            "|       |            using TextBlob            |                                      |               |\n",
            "|   3   | Converted into Binary classification |    Bert(pretrained hugging face)     |     0.9549    |\n",
            "|       |            using TextBlob            |  With Custom layers 4000 Datapoints  |               |\n",
            "+-------+--------------------------------------+--------------------------------------+---------------+\n"
          ],
          "name": "stdout"
        }
      ]
    },
    {
      "cell_type": "code",
      "metadata": {
        "id": "Da2xrSpAdo7A"
      },
      "source": [
        ""
      ],
      "execution_count": null,
      "outputs": []
    },
    {
      "cell_type": "code",
      "metadata": {
        "id": "JgCUAxincNrH"
      },
      "source": [
        ""
      ],
      "execution_count": null,
      "outputs": []
    },
    {
      "cell_type": "code",
      "metadata": {
        "id": "hWZmwGv3cNoA"
      },
      "source": [
        ""
      ],
      "execution_count": null,
      "outputs": []
    },
    {
      "cell_type": "code",
      "metadata": {
        "id": "-yJtU21fcPmT"
      },
      "source": [
        ""
      ],
      "execution_count": null,
      "outputs": []
    },
    {
      "cell_type": "code",
      "metadata": {
        "id": "SLBMgIb2cPjP"
      },
      "source": [
        ""
      ],
      "execution_count": null,
      "outputs": []
    },
    {
      "cell_type": "code",
      "metadata": {
        "id": "EruUC9G3cPfD"
      },
      "source": [
        ""
      ],
      "execution_count": null,
      "outputs": []
    },
    {
      "cell_type": "code",
      "metadata": {
        "id": "wfFUdu9hcPby"
      },
      "source": [
        ""
      ],
      "execution_count": null,
      "outputs": []
    },
    {
      "cell_type": "code",
      "metadata": {
        "id": "NR6kuYTDcPYW"
      },
      "source": [
        ""
      ],
      "execution_count": null,
      "outputs": []
    },
    {
      "cell_type": "code",
      "metadata": {
        "id": "eD32rl1CcNkx"
      },
      "source": [
        ""
      ],
      "execution_count": null,
      "outputs": []
    }
  ]
}